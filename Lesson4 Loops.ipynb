{
 "cells": [
  {
   "cell_type": "markdown",
   "id": "2e66408a",
   "metadata": {},
   "source": [
    "<h1> <font face=verdona color=red><center> LOOPS\n",
    "</center></font>"
   ]
  },
  {
   "cell_type": "markdown",
   "id": "fcecded4",
   "metadata": {},
   "source": [
    "### for\n",
    "    used to iterate through a collection(data containers) of any datatypes."
   ]
  },
  {
   "cell_type": "code",
   "execution_count": 1,
   "id": "db606ac2",
   "metadata": {},
   "outputs": [
    {
     "name": "stdout",
     "output_type": "stream",
     "text": [
      "1\n",
      "2\n",
      "3\n",
      "4\n",
      "5\n"
     ]
    }
   ],
   "source": [
    "#instead of range any data container(lists/tuples/sets/dict.keys/dict.values/dict.items) it'll run the same\n",
    "for x in range(1, 6):\n",
    "    print(x)"
   ]
  },
  {
   "cell_type": "code",
   "execution_count": 2,
   "id": "8f1208d3",
   "metadata": {},
   "outputs": [
    {
     "name": "stdout",
     "output_type": "stream",
     "text": [
      "1 x 1 = 1\n",
      "2 x 2 = 4\n",
      "3 x 3 = 9\n",
      "4 x 4 = 16\n",
      "5 x 5 = 25\n"
     ]
    }
   ],
   "source": [
    "#running two iterables simultaneously\n",
    "for i, j in zip(range(1,6), range(1,6)):#zip functions is responsible for mapping the items in both loops to i and j\n",
    "    print(i,'x',j,'=',i*j)"
   ]
  },
  {
   "cell_type": "code",
   "execution_count": 3,
   "id": "8563c7c6",
   "metadata": {},
   "outputs": [
    {
     "name": "stdout",
     "output_type": "stream",
     "text": [
      "1 0\n",
      "1 1\n",
      "2 0\n",
      "2 1\n",
      "3 0\n",
      "3 1\n"
     ]
    }
   ],
   "source": [
    "# running two iterables one inside another\n",
    "for i in range(1,4):#start this loop\n",
    "    for j in range(2):#start this loop till it ends and run the first loop again since it is not over yet\n",
    "        print(i, j)"
   ]
  },
  {
   "cell_type": "markdown",
   "id": "f9188ccb",
   "metadata": {},
   "source": [
    "### while \n",
    "    used to iterate through the block of code till given condition is unsatisfied\n",
    "    (doesn't need loops to run through , if statements run only once here it is a loop until its satisfied)"
   ]
  },
  {
   "cell_type": "code",
   "execution_count": 4,
   "id": "6c38550e",
   "metadata": {},
   "outputs": [
    {
     "name": "stdout",
     "output_type": "stream",
     "text": [
      "10\n",
      "9\n",
      "8\n",
      "7\n",
      "6\n",
      "5\n",
      "4\n"
     ]
    }
   ],
   "source": [
    "f = 10\n",
    "while f != 3:# condition \n",
    "    print(f) #condition unsatisfied\n",
    "    f -= 1 # operation"
   ]
  },
  {
   "cell_type": "markdown",
   "id": "c55fe470",
   "metadata": {},
   "source": [
    "### break statement\n",
    "    used in for loops to break the loop when a condition is satisfied making it funciton like a while loop\n",
    "    but here we can have multiple conditions to end the loop functions the same in while loop too"
   ]
  },
  {
   "cell_type": "code",
   "execution_count": 5,
   "id": "6cd85ad1",
   "metadata": {},
   "outputs": [
    {
     "name": "stdout",
     "output_type": "stream",
     "text": [
      "0\n",
      "1\n",
      "2\n",
      "3\n",
      "4\n",
      "DONE\n"
     ]
    }
   ],
   "source": [
    "alphas = [0, 1, 2, 3, 4, 5, 6]\n",
    "\n",
    "for a in alphas:\n",
    "    if a > 4: break\n",
    "    print(a)\n",
    "\n",
    "print(\"DONE\")\n",
    "#the loop had more elements to iterate through though ended the loop as break condition was satisfied"
   ]
  },
  {
   "cell_type": "markdown",
   "id": "de95c4dd",
   "metadata": {},
   "source": [
    "### continue statement\n",
    "    used in break the where satisfies condition and continue running the loop till it ends by itself"
   ]
  },
  {
   "cell_type": "code",
   "execution_count": 6,
   "id": "327113ec",
   "metadata": {},
   "outputs": [
    {
     "name": "stdout",
     "output_type": "stream",
     "text": [
      "1\n",
      "2\n",
      "3\n",
      "4\n",
      "6\n",
      "7\n",
      "8\n",
      "9\n",
      "OVER\n"
     ]
    }
   ],
   "source": [
    "beta = [z for z in range(1, 11)]\n",
    "for z in beta:\n",
    "    if z%5 == 0: continue\n",
    "    print(z)\n",
    "\n",
    "print(\"OVER\")\n",
    "#Here 5 and 10 are not printed though the loop was not terminated incomplete"
   ]
  },
  {
   "cell_type": "markdown",
   "id": "5f150728",
   "metadata": {},
   "source": [
    "<h1><center><font face=gabriola color=blue>Keep it up folks 😎"
   ]
  }
 ],
 "metadata": {
  "kernelspec": {
   "display_name": "Python 3 (ipykernel)",
   "language": "python",
   "name": "python3"
  },
  "language_info": {
   "codemirror_mode": {
    "name": "ipython",
    "version": 3
   },
   "file_extension": ".py",
   "mimetype": "text/x-python",
   "name": "python",
   "nbconvert_exporter": "python",
   "pygments_lexer": "ipython3",
   "version": "3.10.7"
  }
 },
 "nbformat": 4,
 "nbformat_minor": 5
}
