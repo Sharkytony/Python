{
 "cells": [
  {
   "cell_type": "markdown",
   "id": "ba1e7cd9",
   "metadata": {},
   "source": [
    "<h1><center><font face=verdona color=red>Functions </font></center></h1>\n",
    "    user defined set of code used to run some operations given in it multiple times as per requirement"
   ]
  },
  {
   "cell_type": "code",
   "execution_count": 1,
   "id": "0f301138",
   "metadata": {
    "scrolled": false
   },
   "outputs": [
    {
     "name": "stdout",
     "output_type": "stream",
     "text": [
      "log in https://www.youtube.com\n",
      "download marksheet\n",
      "log out https://www.youtube.com \n",
      "\n",
      "log in https://www.google.com\n",
      "download marksheet\n",
      "log out https://www.google.com \n",
      "\n",
      "log in https://www.microsoft.com\n",
      "download marksheet\n",
      "log out https://www.microsoft.com \n",
      "\n"
     ]
    }
   ],
   "source": [
    "#def is the keyword used to define a function\n",
    "def downloadmarksheet(url):\n",
    "    print(\"log in \" + url)\n",
    "    print(\"download marksheet\")\n",
    "    print(\"log out \" + url,'\\n')\n",
    "    \n",
    "downloadmarksheet(\"https://www.youtube.com\")\n",
    "downloadmarksheet(\"https://www.google.com\")\n",
    "downloadmarksheet(\"https://www.microsoft.com\")\n",
    "\n",
    "# Here we are running the same function multiple times with different inputs"
   ]
  },
  {
   "cell_type": "code",
   "execution_count": 2,
   "id": "45cc583c",
   "metadata": {},
   "outputs": [
    {
     "name": "stdout",
     "output_type": "stream",
     "text": [
      "Convert degrees to  Fahrenheit : 10\n",
      "10.0 degree Celsius  is 50.0 degrees  Fahrenheit\n"
     ]
    }
   ],
   "source": [
    "# degree celcius to degree farhenite\n",
    "\n",
    "def celcius_to_farhenite(number):\n",
    "    return (number*9/5) + 32  # formula\n",
    "\n",
    "c = float(input(\"Convert degrees to  Fahrenheit : \"))\n",
    "f = celcius_to_farhenite(c) # setting the function and giving input, returning the output value to the defined variable\n",
    "\n",
    "print(\"{} degree Celsius  is {} degrees  Fahrenheit\" .format(c, f))"
   ]
  },
  {
   "cell_type": "code",
   "execution_count": 3,
   "id": "fce06c76",
   "metadata": {},
   "outputs": [
    {
     "name": "stdout",
     "output_type": "stream",
     "text": [
      "Enter the number : 10\n",
      "10.0 Inches = 25.4 cms\n"
     ]
    }
   ],
   "source": [
    "#inch to cms\n",
    "def inch_to_cms(number_1):\n",
    "    return number_1 * 2.54\n",
    "\n",
    "a = float(input(\"Enter the number : \"))\n",
    "\n",
    "f = inch_to_cms(a)\n",
    "\n",
    "print(\"{} Inches = {} cms\" .format(a, f))"
   ]
  },
  {
   "cell_type": "code",
   "execution_count": 4,
   "id": "30a2802c",
   "metadata": {},
   "outputs": [
    {
     "name": "stdout",
     "output_type": "stream",
     "text": [
      "Fabionacci Series:  0, 1, 1, 2, 3, 5, 8, 13, 21, 34, "
     ]
    }
   ],
   "source": [
    "#Recurrsive method - a function that can call itself\n",
    "def fib(i):\n",
    "    if i <= 1:\n",
    "        return i\n",
    "    else:\n",
    "        return (fib(i-1) + fib(i-2))   \n",
    "                \n",
    "num = 10 # length of fibonacci series\n",
    "if num <= 0:\n",
    "    print(\"Please enter a positive number : \")\n",
    "else:\n",
    "    print(\"Fabionacci Series: \", end=\" \")\n",
    "\n",
    "for i in range(num):\n",
    "    print(fib(i), end=\", \")"
   ]
  },
  {
   "cell_type": "markdown",
   "id": "bc8b7da1",
   "metadata": {},
   "source": [
    "### We can perform many operations in a function and use the same for reqd input multiple times without writing the entire code again."
   ]
  },
  {
   "cell_type": "markdown",
   "id": "aec3ba75",
   "metadata": {},
   "source": [
    "<h1><center><font face=verdona color=red>Modules"
   ]
  },
  {
   "cell_type": "markdown",
   "id": "ba9cd08c",
   "metadata": {},
   "source": [
    "functions written by others and can be used when imported are modules/packages."
   ]
  },
  {
   "cell_type": "code",
   "execution_count": 5,
   "id": "e9b5bf21",
   "metadata": {},
   "outputs": [
    {
     "name": "stdout",
     "output_type": "stream",
     "text": [
      "Radian :  0.5235987755982988\n",
      "Square root :  5.0\n",
      "Factorial :  24\n"
     ]
    }
   ],
   "source": [
    "import math #module/library/package used to carry mathematic operations\n",
    "\n",
    "print('Radian : ', math.radians(30))\n",
    "\n",
    "print('Square root : ', math.sqrt(25))\n",
    "\n",
    "print('Factorial : ', math.factorial(4))"
   ]
  },
  {
   "cell_type": "code",
   "execution_count": 6,
   "id": "bc62c222",
   "metadata": {},
   "outputs": [
    {
     "name": "stdout",
     "output_type": "stream",
     "text": [
      "CWD :  C:\\Users\\7XIN\\Desktop\\N2\\AI\\Python\n",
      "List Directories :  ['.ipynb_checkpoints', '1.txt', '2.txt', '3.txt', 'aiimage.png', 'Edited through python.docx', 'index.html', 'iris.csv', 'Lesson1 Data containers.ipynb', 'Lesson2 Data types, Lambda and inbuilt functions.ipynb', 'Lesson3 condititonal statements.ipynb', 'Lesson4 Loops.ipynb', 'Lesson5 Functions and modules.ipynb', 'Lesson6 Exception Handling.ipynb', 'Lesson7 File Handling.ipynb', 'new.py', 'newfile.txt', 'piechart.png', 'Project 3.pdf', 'Python(code)2.ipynb', 'python.txt', 'python2.txt', 'Python_code.ipynb', 'Python_Complete_Notes.pdf', 'read excel file(sample file).xlsx', 'Sql_python.ipynb', 'tables.txt', '__pycache__']\n"
     ]
    }
   ],
   "source": [
    "import os #used to carry OS(operating system) operations\n",
    "# (changing directory, getting current working directory, listing directories, empty directory,etc)\n",
    "print('CWD : ', os.getcwd())\n",
    "\n",
    "print('List Directories : ',os.listdir('./'))"
   ]
  },
  {
   "cell_type": "code",
   "execution_count": 7,
   "id": "0e3dbd60",
   "metadata": {},
   "outputs": [
    {
     "name": "stdout",
     "output_type": "stream",
     "text": [
      "\u001b[95mMaybe not today, \u001b[31mMaybe not tomorrow,\n",
      "\u001b[34mand maybe not the next month \u001b[92m but pedro \u001b[33m\n",
      "I will be a champion one day.\u001b[39m\n"
     ]
    }
   ],
   "source": [
    "from colorama import Fore #package from colorama(another package) used to import colors\n",
    "\n",
    "me = f'''{Fore.LIGHTMAGENTA_EX}Maybe not today, {Fore.RED}Maybe not tomorrow,\n",
    "{Fore.BLUE}and maybe not the next month {Fore.LIGHTGREEN_EX} but pedro {Fore.YELLOW}\n",
    "I will be a champion one day.{Fore.RESET}'''\n",
    "\n",
    "print(me)\n",
    "# always use Fore.Reset{} after the function to get back to default colour"
   ]
  },
  {
   "cell_type": "markdown",
   "id": "fac34670",
   "metadata": {},
   "source": [
    "## Installing modules from internet\n"
   ]
  },
  {
   "cell_type": "code",
   "execution_count": 8,
   "id": "7520dc0a",
   "metadata": {},
   "outputs": [
    {
     "name": "stdout",
     "output_type": "stream",
     "text": [
      "Defaulting to user installation because normal site-packages is not writeable"
     ]
    },
    {
     "name": "stderr",
     "output_type": "stream",
     "text": [
      "WARNING: Ignoring invalid distribution - (c:\\python310\\lib\\site-packages)\n",
      "WARNING: Ignoring invalid distribution -p (c:\\python310\\lib\\site-packages)\n",
      "WARNING: Ignoring invalid distribution -ip (c:\\python310\\lib\\site-packages)\n",
      "WARNING: Ignoring invalid distribution -p (c:\\python310\\lib\\site-packages)\n",
      "WARNING: Ignoring invalid distribution - (c:\\python310\\lib\\site-packages)\n",
      "WARNING: Ignoring invalid distribution -p (c:\\python310\\lib\\site-packages)\n",
      "WARNING: Ignoring invalid distribution -ip (c:\\python310\\lib\\site-packages)\n",
      "WARNING: Ignoring invalid distribution -p (c:\\python310\\lib\\site-packages)\n"
     ]
    },
    {
     "name": "stdout",
     "output_type": "stream",
     "text": [
      "\n",
      "Requirement already satisfied: scipy in c:\\users\\7xin\\appdata\\roaming\\python\\python310\\site-packages (1.10.1)\n",
      "Requirement already satisfied: numpy<1.27.0,>=1.19.5 in c:\\users\\7xin\\appdata\\roaming\\python\\python310\\site-packages (from scipy) (1.23.5)\n"
     ]
    }
   ],
   "source": [
    "#pip is the standard way of python package installation\n",
    "!pip install scipy\n",
    "\n",
    "# the error resulting here is saying I have multiple python installations which wont appear on your device and not a matter\n",
    "# of consideration anyways"
   ]
  },
  {
   "cell_type": "markdown",
   "id": "1adb2021",
   "metadata": {},
   "source": [
    "<h1><font face=gabriola color=blue> There are many libraries like these including the most popular ones numpy, pandas, seaborn, matplotlib, sklearn of which we will be learning in future 🔥 🔥 "
   ]
  }
 ],
 "metadata": {
  "kernelspec": {
   "display_name": "Python 3 (ipykernel)",
   "language": "python",
   "name": "python3"
  },
  "language_info": {
   "codemirror_mode": {
    "name": "ipython",
    "version": 3
   },
   "file_extension": ".py",
   "mimetype": "text/x-python",
   "name": "python",
   "nbconvert_exporter": "python",
   "pygments_lexer": "ipython3",
   "version": "3.10.7"
  }
 },
 "nbformat": 4,
 "nbformat_minor": 5
}
