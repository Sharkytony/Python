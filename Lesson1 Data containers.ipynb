{
 "cells": [
  {
   "cell_type": "code",
   "execution_count": 1,
   "id": "38fb1aae",
   "metadata": {},
   "outputs": [
    {
     "name": "stdout",
     "output_type": "stream",
     "text": [
      "Hello World\n"
     ]
    }
   ],
   "source": [
    "# Your first line of Code : \n",
    "# This print statement is used to print content on screen\n",
    "\n",
    "print('Hello World')"
   ]
  },
  {
   "cell_type": "markdown",
   "id": "129612df",
   "metadata": {},
   "source": [
    "## Lists"
   ]
  },
  {
   "cell_type": "code",
   "execution_count": 2,
   "id": "60324d17",
   "metadata": {},
   "outputs": [
    {
     "name": "stdout",
     "output_type": "stream",
     "text": [
      "[1, 2, 3, 'GFG', 2.3]\n"
     ]
    }
   ],
   "source": [
    "# creating a list\n",
    "List = [1, 2,  3, \"GFG\", 2.3]\n",
    "print(List)"
   ]
  },
  {
   "cell_type": "code",
   "execution_count": 3,
   "id": "43a4d610",
   "metadata": {},
   "outputs": [
    {
     "data": {
      "text/plain": [
       "[1, 2, 3, 'GFG', 2.3, 3.1]"
      ]
     },
     "execution_count": 3,
     "metadata": {},
     "output_type": "execute_result"
    }
   ],
   "source": [
    "# adding new element to the list \n",
    "List.append(3.1)\n",
    "List"
   ]
  },
  {
   "cell_type": "code",
   "execution_count": 4,
   "id": "9e57c41d",
   "metadata": {},
   "outputs": [
    {
     "data": {
      "text/plain": [
       "[]"
      ]
     },
     "execution_count": 4,
     "metadata": {},
     "output_type": "execute_result"
    }
   ],
   "source": [
    "# clearing the list/removing all elements of the list\n",
    "List.clear()\n",
    "List"
   ]
  },
  {
   "cell_type": "code",
   "execution_count": 5,
   "id": "119ad713",
   "metadata": {},
   "outputs": [
    {
     "data": {
      "text/plain": [
       "[1, 2, 3, 4, 5, 6, 7, 8, 9, 10]"
      ]
     },
     "execution_count": 5,
     "metadata": {},
     "output_type": "execute_result"
    }
   ],
   "source": [
    "# comprehensive way of building a list\n",
    "List = [x for x in range(1, 11)]\n",
    "List"
   ]
  },
  {
   "cell_type": "code",
   "execution_count": 6,
   "id": "7515f481",
   "metadata": {},
   "outputs": [
    {
     "data": {
      "text/plain": [
       "[1, 2, 3, 4, 5, 6, 7, 8, 9, 10]"
      ]
     },
     "execution_count": 6,
     "metadata": {},
     "output_type": "execute_result"
    }
   ],
   "source": [
    "# copying all the elements of a list to a new list\n",
    "list2 = List.copy()\n",
    "list2"
   ]
  },
  {
   "cell_type": "code",
   "execution_count": 7,
   "id": "706fed99",
   "metadata": {},
   "outputs": [
    {
     "data": {
      "text/plain": [
       "1"
      ]
     },
     "execution_count": 7,
     "metadata": {},
     "output_type": "execute_result"
    }
   ],
   "source": [
    "# getting the count of a number / number of appearances of an element in the list\n",
    "List.count(10)"
   ]
  },
  {
   "cell_type": "code",
   "execution_count": 8,
   "id": "367eb985",
   "metadata": {},
   "outputs": [
    {
     "data": {
      "text/plain": [
       "[1, 2, 3, 4, 5, 6, 7, 8, 9, 10, 10, 11]"
      ]
     },
     "execution_count": 8,
     "metadata": {},
     "output_type": "execute_result"
    }
   ],
   "source": [
    "# adding multiple elements at once \n",
    "List.extend([10, 11])\n",
    "List"
   ]
  },
  {
   "cell_type": "code",
   "execution_count": 9,
   "id": "c38ff06e",
   "metadata": {},
   "outputs": [
    {
     "data": {
      "text/plain": [
       "9"
      ]
     },
     "execution_count": 9,
     "metadata": {},
     "output_type": "execute_result"
    }
   ],
   "source": [
    "# Getting the index of the first appearance of an element, index range starts from 0\n",
    "# (here 10 appeared 2 times but the index provided is the first time it was found)\n",
    "List.index(10)"
   ]
  },
  {
   "cell_type": "code",
   "execution_count": 10,
   "id": "04ce602a",
   "metadata": {},
   "outputs": [
    {
     "data": {
      "text/plain": [
       "[1, 2, 3, 4, 5, 6, 7, 8, 9, 10, 11, 10, 11]"
      ]
     },
     "execution_count": 10,
     "metadata": {},
     "output_type": "execute_result"
    }
   ],
   "source": [
    "# Inserting an element at a specific index unlike append which adds at the end\n",
    "List.insert(10, 11)#first is index, second is value to append\n",
    "List"
   ]
  },
  {
   "cell_type": "code",
   "execution_count": 11,
   "id": "eda66cd9",
   "metadata": {},
   "outputs": [
    {
     "data": {
      "text/plain": [
       "[1, 2, 3, 4, 5, 6, 7, 8, 9, 10, 11, 10]"
      ]
     },
     "execution_count": 11,
     "metadata": {},
     "output_type": "execute_result"
    }
   ],
   "source": [
    "# removing the last element of the list\n",
    "List.pop()\n",
    "List"
   ]
  },
  {
   "cell_type": "code",
   "execution_count": 12,
   "id": "ed2b5363",
   "metadata": {},
   "outputs": [
    {
     "data": {
      "text/plain": [
       "[1, 2, 3, 4, 5, 6, 7, 8, 9, 11, 10]"
      ]
     },
     "execution_count": 12,
     "metadata": {},
     "output_type": "execute_result"
    }
   ],
   "source": [
    "# removes the first occurance of the element value\n",
    "List.remove(10)\n",
    "List"
   ]
  },
  {
   "cell_type": "code",
   "execution_count": 13,
   "id": "de16eb51",
   "metadata": {},
   "outputs": [
    {
     "data": {
      "text/plain": [
       "[10, 11, 9, 8, 7, 6, 5, 4, 3, 2, 1]"
      ]
     },
     "execution_count": 13,
     "metadata": {},
     "output_type": "execute_result"
    }
   ],
   "source": [
    "#reverses the list (rearranges the elements from last element to first)\n",
    "List.reverse()\n",
    "List"
   ]
  },
  {
   "cell_type": "code",
   "execution_count": 14,
   "id": "d199ab6a",
   "metadata": {},
   "outputs": [
    {
     "name": "stdout",
     "output_type": "stream",
     "text": [
      "Sorted list in ascending order :  [1, 2, 3, 4, 5, 6, 7, 8, 9, 10, 11]\n",
      "Sorted list in descending order :  [11, 10, 9, 8, 7, 6, 5, 4, 3, 2, 1]\n"
     ]
    }
   ],
   "source": [
    "#sorts the list in ascending and descending order as per reverse=True/False\n",
    "List.sort()#reverse is false by default\n",
    "print('Sorted list in ascending order : ', List)\n",
    "\n",
    "List.sort(reverse=True)\n",
    "print('Sorted list in descending order : ', List)"
   ]
  },
  {
   "cell_type": "markdown",
   "id": "66a9b74b",
   "metadata": {},
   "source": [
    "<h1> <font face =verdona color=red> Thats all about Lists !!\n",
    "<h3> <font face =verdona color=orange>Hurray !!\n",
    "<img src=\"aiimage.png\" alt=\"Image\" width=\"200\" height=\"100\">"
   ]
  },
  {
   "cell_type": "markdown",
   "id": "382a0cb9",
   "metadata": {},
   "source": [
    "## Tuples\n",
    "       (immutable cant add and remove elements)"
   ]
  },
  {
   "cell_type": "code",
   "execution_count": 15,
   "id": "1c79b1e9",
   "metadata": {},
   "outputs": [
    {
     "data": {
      "text/plain": [
       "(7, 0, 8, 0, 0, 9)"
      ]
     },
     "execution_count": 15,
     "metadata": {},
     "output_type": "execute_result"
    }
   ],
   "source": [
    "# creating a tuple\n",
    "Tuple = (7, 0, 8, 0, 0, 9)\n",
    "Tuple"
   ]
  },
  {
   "cell_type": "code",
   "execution_count": 16,
   "id": "1fb5357a",
   "metadata": {},
   "outputs": [
    {
     "data": {
      "text/plain": [
       "3"
      ]
     },
     "execution_count": 16,
     "metadata": {},
     "output_type": "execute_result"
    }
   ],
   "source": [
    "# getting the count of the element\n",
    "Tuple.count(0)"
   ]
  },
  {
   "cell_type": "code",
   "execution_count": 17,
   "id": "61129584",
   "metadata": {},
   "outputs": [
    {
     "data": {
      "text/plain": [
       "1"
      ]
     },
     "execution_count": 17,
     "metadata": {},
     "output_type": "execute_result"
    }
   ],
   "source": [
    "# first appearance index (remember indexing begins from 0)\n",
    "Tuple.index(0)"
   ]
  },
  {
   "cell_type": "code",
   "execution_count": 18,
   "id": "ecbf46a7",
   "metadata": {},
   "outputs": [
    {
     "data": {
      "text/plain": [
       "(1, 2, 3, 4, 5, 6, 7, 8, 9, 10)"
      ]
     },
     "execution_count": 18,
     "metadata": {},
     "output_type": "execute_result"
    }
   ],
   "source": [
    "# comprehensive way of creating the tuple\n",
    "Tuple = tuple(x for x in range(1,11))\n",
    "Tuple"
   ]
  },
  {
   "cell_type": "markdown",
   "id": "c043271d",
   "metadata": {},
   "source": [
    "<h4> Since tuples cant be manipulated Tuples have only these two functions"
   ]
  },
  {
   "cell_type": "markdown",
   "id": "3b028f12",
   "metadata": {},
   "source": [
    "<h1> <font face =verdona color=red> Finished off too early with Tuples !!\n",
    "<h3> <font face =verdona color=orange>Hurray !!\n",
    "<img src=\"aiimage.png\" alt=\"Image\" width=\"200\" height=\"100\">"
   ]
  },
  {
   "cell_type": "markdown",
   "id": "ad358672",
   "metadata": {},
   "source": [
    "## Sets\n",
    "     mutable collection of data, does not allow any duplicate element"
   ]
  },
  {
   "cell_type": "code",
   "execution_count": 19,
   "id": "de84cb0c",
   "metadata": {},
   "outputs": [
    {
     "data": {
      "text/plain": [
       "{1, 2, 3, 4, 5, 6, 7}"
      ]
     },
     "execution_count": 19,
     "metadata": {},
     "output_type": "execute_result"
    }
   ],
   "source": [
    "# creating a set\n",
    "Set = {1, 2, 3, 4, 5, 6, 7}\n",
    "Set"
   ]
  },
  {
   "cell_type": "code",
   "execution_count": 20,
   "id": "bea3ecb4",
   "metadata": {},
   "outputs": [
    {
     "data": {
      "text/plain": [
       "{1, 2, 3, 4, 5, 6, 7, 8}"
      ]
     },
     "execution_count": 20,
     "metadata": {},
     "output_type": "execute_result"
    }
   ],
   "source": [
    "# adding new element to the set\n",
    "Set.add(8)\n",
    "Set"
   ]
  },
  {
   "cell_type": "code",
   "execution_count": 21,
   "id": "29900993",
   "metadata": {},
   "outputs": [
    {
     "data": {
      "text/plain": [
       "set()"
      ]
     },
     "execution_count": 21,
     "metadata": {},
     "output_type": "execute_result"
    }
   ],
   "source": [
    "# clearing the set\n",
    "Set.clear()\n",
    "Set"
   ]
  },
  {
   "cell_type": "code",
   "execution_count": 22,
   "id": "9813c646",
   "metadata": {},
   "outputs": [
    {
     "data": {
      "text/plain": [
       "{1, 2, 3, 4, 5, 6, 7, 8, 9, 10}"
      ]
     },
     "execution_count": 22,
     "metadata": {},
     "output_type": "execute_result"
    }
   ],
   "source": [
    "# comprehensive way of creating the set\n",
    "Set = set(x for x in range(1,11))\n",
    "Set"
   ]
  },
  {
   "cell_type": "code",
   "execution_count": 23,
   "id": "e500d2d0",
   "metadata": {},
   "outputs": [
    {
     "data": {
      "text/plain": [
       "{1, 2, 3, 4, 5, 6, 7, 8, 9, 10}"
      ]
     },
     "execution_count": 23,
     "metadata": {},
     "output_type": "execute_result"
    }
   ],
   "source": [
    "# copying the elements of a set to another\n",
    "new_Set = Set.copy()\n",
    "new_Set"
   ]
  },
  {
   "cell_type": "code",
   "execution_count": 24,
   "id": "160c40ef",
   "metadata": {},
   "outputs": [
    {
     "data": {
      "text/plain": [
       "{8, 9, 10}"
      ]
     },
     "execution_count": 24,
     "metadata": {},
     "output_type": "execute_result"
    }
   ],
   "source": [
    "# difference between two sets in a new set\n",
    "Set2 = {1, 2, 3, 4, 5, 6, 7}\n",
    "Set.difference(Set2)"
   ]
  },
  {
   "cell_type": "code",
   "execution_count": 25,
   "id": "f370fa26",
   "metadata": {},
   "outputs": [
    {
     "data": {
      "text/plain": [
       "{8, 9, 10}"
      ]
     },
     "execution_count": 25,
     "metadata": {},
     "output_type": "execute_result"
    }
   ],
   "source": [
    "# get the difference and update the list with only the difference elements\n",
    "Set.difference_update(Set2)\n",
    "Set"
   ]
  },
  {
   "cell_type": "code",
   "execution_count": 26,
   "id": "ccb458d9",
   "metadata": {},
   "outputs": [
    {
     "data": {
      "text/plain": [
       "{8, 9, 10}"
      ]
     },
     "execution_count": 26,
     "metadata": {},
     "output_type": "execute_result"
    }
   ],
   "source": [
    "# discard the element value given if in the set or else run the program without giving error\n",
    "Set.discard(11)\n",
    "Set"
   ]
  },
  {
   "cell_type": "code",
   "execution_count": 27,
   "id": "7a053ffa",
   "metadata": {},
   "outputs": [
    {
     "data": {
      "text/plain": [
       "{8, 9, 10}"
      ]
     },
     "execution_count": 27,
     "metadata": {},
     "output_type": "execute_result"
    }
   ],
   "source": [
    "# common elements in the sets\n",
    "Set.intersection(new_Set)"
   ]
  },
  {
   "cell_type": "code",
   "execution_count": 28,
   "id": "c3792e47",
   "metadata": {},
   "outputs": [
    {
     "data": {
      "text/plain": [
       "{8, 9, 10}"
      ]
     },
     "execution_count": 28,
     "metadata": {},
     "output_type": "execute_result"
    }
   ],
   "source": [
    "# get the common elements and update the set with the common elements only\n",
    "Set.intersection_update(new_Set)\n",
    "Set"
   ]
  },
  {
   "cell_type": "code",
   "execution_count": 29,
   "id": "a60598c3",
   "metadata": {},
   "outputs": [
    {
     "data": {
      "text/plain": [
       "False"
      ]
     },
     "execution_count": 29,
     "metadata": {},
     "output_type": "execute_result"
    }
   ],
   "source": [
    "# Returns True if two sets have a null intersection.\n",
    "Set.isdisjoint(new_Set)"
   ]
  },
  {
   "cell_type": "code",
   "execution_count": 30,
   "id": "ac996cb3",
   "metadata": {},
   "outputs": [
    {
     "data": {
      "text/plain": [
       "True"
      ]
     },
     "execution_count": 30,
     "metadata": {},
     "output_type": "execute_result"
    }
   ],
   "source": [
    "# returns true if all elements of 'Set' are in 'new_set'\n",
    "Set.issubset(new_Set)"
   ]
  },
  {
   "cell_type": "code",
   "execution_count": 31,
   "id": "bcac275b",
   "metadata": {},
   "outputs": [
    {
     "data": {
      "text/plain": [
       "False"
      ]
     },
     "execution_count": 31,
     "metadata": {},
     "output_type": "execute_result"
    }
   ],
   "source": [
    "# Report whether this set contains another set.\n",
    "Set.issuperset(new_Set)"
   ]
  },
  {
   "cell_type": "code",
   "execution_count": 32,
   "id": "51561aec",
   "metadata": {},
   "outputs": [
    {
     "data": {
      "text/plain": [
       "{9, 10}"
      ]
     },
     "execution_count": 32,
     "metadata": {},
     "output_type": "execute_result"
    }
   ],
   "source": [
    "# removes the first element of the set\n",
    "Set.pop()\n",
    "Set"
   ]
  },
  {
   "cell_type": "code",
   "execution_count": 33,
   "id": "8e6f24e4",
   "metadata": {},
   "outputs": [
    {
     "data": {
      "text/plain": [
       "{9}"
      ]
     },
     "execution_count": 33,
     "metadata": {},
     "output_type": "execute_result"
    }
   ],
   "source": [
    "# removes a specific element from the set\n",
    "Set.remove(10)\n",
    "Set"
   ]
  },
  {
   "cell_type": "code",
   "execution_count": 34,
   "id": "55e0202f",
   "metadata": {},
   "outputs": [
    {
     "data": {
      "text/plain": [
       "{1, 2, 3, 4, 5, 6, 7, 8, 10}"
      ]
     },
     "execution_count": 34,
     "metadata": {},
     "output_type": "execute_result"
    }
   ],
   "source": [
    "# works similar as difference function\n",
    "Set.symmetric_difference(new_Set)"
   ]
  },
  {
   "cell_type": "code",
   "execution_count": 35,
   "id": "c0cadae4",
   "metadata": {},
   "outputs": [
    {
     "data": {
      "text/plain": [
       "{1, 2, 3, 4, 5, 6, 7, 8, 10}"
      ]
     },
     "execution_count": 35,
     "metadata": {},
     "output_type": "execute_result"
    }
   ],
   "source": [
    "# works similar as difference update function\n",
    "Set.symmetric_difference_update(new_Set)\n",
    "Set"
   ]
  },
  {
   "cell_type": "code",
   "execution_count": 36,
   "id": "8b106b34",
   "metadata": {},
   "outputs": [
    {
     "data": {
      "text/plain": [
       "{1, 2, 3, 4, 5, 6, 7, 8, 9, 10}"
      ]
     },
     "execution_count": 36,
     "metadata": {},
     "output_type": "execute_result"
    }
   ],
   "source": [
    "# all the elements present in both the sets\n",
    "Set.union(new_Set)"
   ]
  },
  {
   "cell_type": "code",
   "execution_count": 37,
   "id": "9b12da9b",
   "metadata": {},
   "outputs": [
    {
     "data": {
      "text/plain": [
       "{1, 2, 3, 4, 5, 6, 7, 8, 9, 10}"
      ]
     },
     "execution_count": 37,
     "metadata": {},
     "output_type": "execute_result"
    }
   ],
   "source": [
    "# update the set with all the elements present in both the sets\n",
    "Set.update(new_Set)\n",
    "Set"
   ]
  },
  {
   "cell_type": "markdown",
   "id": "3bb654d8",
   "metadata": {},
   "source": [
    "<h1> <font face =verdona color=red> Sets made us work a little but its easy ☺\n",
    "<h3> <font face =verdona color=orange>Hurray !!\n",
    "<img src=\"aiimage.png\" alt=\"Image\" width=\"200\" height=\"100\">"
   ]
  },
  {
   "cell_type": "markdown",
   "id": "9429c711",
   "metadata": {},
   "source": [
    "## Dictionaries \n",
    "    used to mapping some value to user defined index where the index is unique"
   ]
  },
  {
   "cell_type": "code",
   "execution_count": 38,
   "id": "3ae1b98a",
   "metadata": {},
   "outputs": [
    {
     "data": {
      "text/plain": [
       "{'Anthony': 23, 'Mark': 48, 'Gloria': 60}"
      ]
     },
     "execution_count": 38,
     "metadata": {},
     "output_type": "execute_result"
    }
   ],
   "source": [
    "# creating a dictionary\n",
    "dictionary = {\"Anthony\": 23, \"Mark\": 48, \"Gloria\": 60}\n",
    "dictionary"
   ]
  },
  {
   "cell_type": "code",
   "execution_count": 39,
   "id": "877e5077",
   "metadata": {},
   "outputs": [
    {
     "data": {
      "text/plain": [
       "{}"
      ]
     },
     "execution_count": 39,
     "metadata": {},
     "output_type": "execute_result"
    }
   ],
   "source": [
    "dictionary.clear()\n",
    "dictionary"
   ]
  },
  {
   "cell_type": "code",
   "execution_count": 40,
   "id": "169d14b3",
   "metadata": {},
   "outputs": [
    {
     "data": {
      "text/plain": [
       "{1: 1, 2: 4, 3: 9, 4: 16, 5: 25, 6: 36, 7: 49, 8: 64, 9: 81, 10: 100}"
      ]
     },
     "execution_count": 40,
     "metadata": {},
     "output_type": "execute_result"
    }
   ],
   "source": [
    "#comprehensive way of creating a dictionary\n",
    "Dict = {x : x**2 for x in range(1,11)}\n",
    "Dict"
   ]
  },
  {
   "cell_type": "code",
   "execution_count": 41,
   "id": "599051c3",
   "metadata": {},
   "outputs": [
    {
     "data": {
      "text/plain": [
       "{1: 1, 2: 4, 3: 9, 4: 16, 5: 25, 6: 36, 7: 49, 8: 64, 9: 81, 10: 100}"
      ]
     },
     "execution_count": 41,
     "metadata": {},
     "output_type": "execute_result"
    }
   ],
   "source": [
    "dictionary = Dict.copy()\n",
    "dictionary"
   ]
  },
  {
   "cell_type": "code",
   "execution_count": 42,
   "id": "25299d87",
   "metadata": {},
   "outputs": [
    {
     "data": {
      "text/plain": [
       "{11: 'Joseph', 12: 'Joseph', 13: 'Joseph', 14: 'Joseph', 15: 'Joseph'}"
      ]
     },
     "execution_count": 42,
     "metadata": {},
     "output_type": "execute_result"
    }
   ],
   "source": [
    "# another way of creating a dictionary and assigning the same value to multiple keys\n",
    "new = dict.fromkeys([11, 12, 13,14, 15],'Joseph')\n",
    "new"
   ]
  },
  {
   "cell_type": "code",
   "execution_count": 43,
   "id": "134409aa",
   "metadata": {},
   "outputs": [
    {
     "data": {
      "text/plain": [
       "16"
      ]
     },
     "execution_count": 43,
     "metadata": {},
     "output_type": "execute_result"
    }
   ],
   "source": [
    "# get the value for the item\n",
    "Dict.get(4)"
   ]
  },
  {
   "cell_type": "code",
   "execution_count": 44,
   "id": "80b0dbc6",
   "metadata": {},
   "outputs": [
    {
     "data": {
      "text/plain": [
       "dict_items([(1, 1), (2, 4), (3, 9), (4, 16), (5, 25), (6, 36), (7, 49), (8, 64), (9, 81), (10, 100)])"
      ]
     },
     "execution_count": 44,
     "metadata": {},
     "output_type": "execute_result"
    }
   ],
   "source": [
    "# all the elements in forms of tuple\n",
    "Dict.items()"
   ]
  },
  {
   "cell_type": "code",
   "execution_count": 45,
   "id": "40993ff9",
   "metadata": {},
   "outputs": [
    {
     "data": {
      "text/plain": [
       "dict_keys([1, 2, 3, 4, 5, 6, 7, 8, 9, 10])"
      ]
     },
     "execution_count": 45,
     "metadata": {},
     "output_type": "execute_result"
    }
   ],
   "source": [
    "# all the user defined index values(keys)\n",
    "Dict.keys()"
   ]
  },
  {
   "cell_type": "code",
   "execution_count": 46,
   "id": "af4f87ae",
   "metadata": {},
   "outputs": [
    {
     "data": {
      "text/plain": [
       "{1: 1, 2: 4, 3: 9, 4: 16, 5: 25, 6: 36, 7: 49, 8: 64, 10: 100}"
      ]
     },
     "execution_count": 46,
     "metadata": {},
     "output_type": "execute_result"
    }
   ],
   "source": [
    "# Removing the item with given key\n",
    "Dict.pop(9)\n",
    "Dict"
   ]
  },
  {
   "cell_type": "code",
   "execution_count": 47,
   "id": "64bd9263",
   "metadata": {},
   "outputs": [
    {
     "data": {
      "text/plain": [
       "{1: 1, 2: 4, 3: 9, 4: 16, 5: 25, 6: 36, 7: 49, 8: 64}"
      ]
     },
     "execution_count": 47,
     "metadata": {},
     "output_type": "execute_result"
    }
   ],
   "source": [
    "# removes the last item\n",
    "Dict.popitem()\n",
    "Dict"
   ]
  },
  {
   "cell_type": "code",
   "execution_count": 48,
   "id": "20df46a7",
   "metadata": {},
   "outputs": [
    {
     "data": {
      "text/plain": [
       "{1: 1, 2: 4, 3: 9, 4: 16, 5: 25, 6: 36, 7: 49, 8: 64, 12: None}"
      ]
     },
     "execution_count": 48,
     "metadata": {},
     "output_type": "execute_result"
    }
   ],
   "source": [
    "# keep the value in the dict even if its value is not provided\n",
    "Dict.setdefault(12)\n",
    "Dict"
   ]
  },
  {
   "cell_type": "code",
   "execution_count": 49,
   "id": "0546f451",
   "metadata": {},
   "outputs": [
    {
     "data": {
      "text/plain": [
       "{1: 1, 2: 4, 3: 9, 4: 16, 5: 25, 6: 36, 7: 49, 8: 64, 12: 144}"
      ]
     },
     "execution_count": 49,
     "metadata": {},
     "output_type": "execute_result"
    }
   ],
   "source": [
    "#add a new item in the dictionary\n",
    "Dict.update({12 :  144})\n",
    "Dict"
   ]
  },
  {
   "cell_type": "code",
   "execution_count": 50,
   "id": "cd31751b",
   "metadata": {},
   "outputs": [
    {
     "data": {
      "text/plain": [
       "dict_values([1, 4, 9, 16, 25, 36, 49, 64, 144])"
      ]
     },
     "execution_count": 50,
     "metadata": {},
     "output_type": "execute_result"
    }
   ],
   "source": [
    "# returns all the values for all indexes in the dictionary\n",
    "Dict.values()"
   ]
  },
  {
   "cell_type": "markdown",
   "id": "a2b345ec",
   "metadata": {},
   "source": [
    "<h1> <font face =verdona color=red> And there we go !! We are done with Python Data Structures/ Data containers ☺\n",
    "<h3> <font face =verdona color=orange>Hurray !!\n",
    "<img src=\"aiimage.png\" alt=\"Image\" width=\"200\" height=\"100\">"
   ]
  }
 ],
 "metadata": {
  "kernelspec": {
   "display_name": "Python 3 (ipykernel)",
   "language": "python",
   "name": "python3"
  },
  "language_info": {
   "codemirror_mode": {
    "name": "ipython",
    "version": 3
   },
   "file_extension": ".py",
   "mimetype": "text/x-python",
   "name": "python",
   "nbconvert_exporter": "python",
   "pygments_lexer": "ipython3",
   "version": "3.10.7"
  }
 },
 "nbformat": 4,
 "nbformat_minor": 5
}
