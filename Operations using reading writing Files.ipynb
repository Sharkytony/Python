{
 "cells": [
  {
   "cell_type": "code",
   "execution_count": 1,
   "id": "99711958",
   "metadata": {},
   "outputs": [
    {
     "name": "stdout",
     "output_type": "stream",
     "text": [
      "Hi Hello \n",
      " Yes Sir \n",
      " asdfgf ;lkjhj \n",
      " ;lkjhj asdfgf Hi\n",
      "\n",
      "The word 'Hi' present in file 'python.txt' \n",
      "Found at line: 1\n",
      "The word 'Hi' present in file 'python.txt' \n",
      "Found at line: 4\n"
     ]
    }
   ],
   "source": [
    "#finding a word in the doc\n",
    "word = 'Hi'\n",
    "\n",
    "f = open(\"python.txt\", \"x\")\n",
    "with open(\"python.txt\", 'w') as f:\n",
    "    f.write('Hi Hello \\n Yes Sir \\n asdfgf ;lkjhj \\n ;lkjhj asdfgf Hi\\n')\n",
    "    \n",
    "with open(\"python.txt\", \"r\") as f:\n",
    "    content = f.read()\n",
    "    print(content)\n",
    "\n",
    "with open(\"python.txt\") as f:\n",
    "    for a, b in enumerate(f, 1):\n",
    "        if word in b:\n",
    "            print(f\"The word '{word}' present in file '{f.name}' \")\n",
    "            print('Found at line:', a)"
   ]
  },
  {
   "cell_type": "code",
   "execution_count": 2,
   "id": "23b59240",
   "metadata": {},
   "outputs": [
    {
     "name": "stdout",
     "output_type": "stream",
     "text": [
      "Before replacement :  Hi Hello \n",
      " Yes Sir \n",
      " asdfgf ;lkjhj \n",
      " ;lkjhj asdfgf Hi\n",
      "\n",
      "\n",
      "After replacement :  Hi Hello \n",
      " Yes Sir \n",
      " Hi Hello Hi Hello \n",
      " Hi Hello Hi Hello Hi\n",
      "\n"
     ]
    }
   ],
   "source": [
    "#finding words in the doc\n",
    "words = ['asdfgf', ';lkjhj', 'qwertr']\n",
    "\n",
    "with open(\"python.txt\") as f:\n",
    "    content = f.read()\n",
    "    print('Before replacement : ',content)\n",
    "    \n",
    "for word in words:\n",
    "    content = content.replace(word, \"Hi Hello\")\n",
    "    with open(\"python.txt\", \"w\")as f:\n",
    "        f.write(content)\n",
    "        \n",
    "with open(\"python.txt\") as f:\n",
    "    content = f.read()\n",
    "    print('\\nAfter replacement : ',content)"
   ]
  },
  {
   "cell_type": "code",
   "execution_count": 3,
   "id": "10e06031",
   "metadata": {},
   "outputs": [],
   "source": [
    "#renaming file by os module\n",
    "import os\n",
    "os.rename(\"python.txt\", \"renamed_by_python.txt\")"
   ]
  },
  {
   "cell_type": "code",
   "execution_count": 4,
   "id": "51f1a92c",
   "metadata": {},
   "outputs": [
    {
     "name": "stdout",
     "output_type": "stream",
     "text": [
      "Enter the high score: 145\n",
      "Prev Score :  0\n",
      "Updated Score :  145\n"
     ]
    }
   ],
   "source": [
    "def game(number):\n",
    "    return number\n",
    "\n",
    "a = int(input(\"Enter the high score: \"))\n",
    "\n",
    "score = game(a)\n",
    "\n",
    "try:\n",
    "    with open(\"python2.txt\") as f:\n",
    "        high_score = int(f.read())\n",
    "        print('Prev Score : ',high_score)\n",
    "except FileNotFoundError:\n",
    "    # If the file doesn't exist, set a default high score\n",
    "    high_score = 0\n",
    "\n",
    "print('Prev Score : ',high_score)\n",
    "\n",
    "if high_score < score:\n",
    "    with open(\"python2.txt\", \"w\") as f:\n",
    "        f.write(str(score))\n",
    "    print('Updated Score : ', score)"
   ]
  },
  {
   "cell_type": "code",
   "execution_count": 5,
   "id": "a5871f3d",
   "metadata": {},
   "outputs": [],
   "source": [
    "with open(\"renamed_by_python.txt\", \"r\")as f:\n",
    "    content = f.read()\n",
    "with open(\"python_2.txt\", \"w\")as k:\n",
    "    k.write(str(content))"
   ]
  }
 ],
 "metadata": {
  "kernelspec": {
   "display_name": "Python 3 (ipykernel)",
   "language": "python",
   "name": "python3"
  },
  "language_info": {
   "codemirror_mode": {
    "name": "ipython",
    "version": 3
   },
   "file_extension": ".py",
   "mimetype": "text/x-python",
   "name": "python",
   "nbconvert_exporter": "python",
   "pygments_lexer": "ipython3",
   "version": "3.10.7"
  }
 },
 "nbformat": 4,
 "nbformat_minor": 5
}
