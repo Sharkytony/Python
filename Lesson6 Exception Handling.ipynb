{
 "cells": [
  {
   "cell_type": "markdown",
   "id": "4459eea4",
   "metadata": {},
   "source": [
    "## Exception Handling \n",
    "    1) User defined Errors, Error that support the program logic made by programmer and continues to run the program after         running the exception block code where as when dont handle the error it stops the program over there ."
   ]
  },
  {
   "cell_type": "code",
   "execution_count": 1,
   "id": "04681770",
   "metadata": {},
   "outputs": [
    {
     "name": "stdout",
     "output_type": "stream",
     "text": [
      "Please enter your age:17\n",
      "Under 18 are not allowed to play the game\n",
      "Done\n"
     ]
    }
   ],
   "source": [
    "# Suppose we building a GAME so here we want to take the user's age as input and we have to set the age limit to 18 \n",
    "# So we specify an exception made by us that the age limit should be above 18\n",
    "\n",
    "a = int(input(\"Please enter your age:\"))\n",
    "def throw_exception(a):\n",
    "    if a <= 17 : raise Exception\n",
    "    print(a)\n",
    "\n",
    "try:\n",
    "    throw_exception(a) \n",
    "# try block is used to perform the operations and check the condition next to condition we set the raise Exception method\n",
    "except Exception:\n",
    "    print(\"Under 18 are not allowed to play the game\")\n",
    "# except block runs when the Exception is raised \n",
    "else:\n",
    "    print(\"No exception\")\n",
    "# else block runs when there is no exception raised\n",
    "finally:\n",
    "    print(\"Done\")\n",
    "#finally block runs at all given events irrespective of the exception is raised or not"
   ]
  },
  {
   "cell_type": "markdown",
   "id": "ebca181b",
   "metadata": {},
   "source": [
    "    2) Handling Built-In Errors in Python"
   ]
  },
  {
   "cell_type": "code",
   "execution_count": 2,
   "id": "9457db4b",
   "metadata": {},
   "outputs": [
    {
     "name": "stdout",
     "output_type": "stream",
     "text": [
      "You cannot perform mathematic operations through strings\n",
      "The execution is done\n"
     ]
    }
   ],
   "source": [
    "try :\n",
    "    a = 10\n",
    "    b = l\n",
    "    print(a/b)\n",
    "except ZeroDivisionError  :\n",
    "    print(\"You cannot divide any number by zero \")\n",
    "except NameError :\n",
    "    print(\"You cannot perform mathematic operations through strings\")\n",
    "finally :\n",
    "    print(\"The execution is done\")"
   ]
  },
  {
   "cell_type": "markdown",
   "id": "6f4a118f",
   "metadata": {},
   "source": [
    "<h1> <font face=gabriola color=red> There are many more such Errors you will face you can handle them using these techniques we will be discussing about these in depth further \n",
    "<h3> <font face=gabriola color=green>Stay Connected !!☄️☄️"
   ]
  }
 ],
 "metadata": {
  "kernelspec": {
   "display_name": "Python 3 (ipykernel)",
   "language": "python",
   "name": "python3"
  },
  "language_info": {
   "codemirror_mode": {
    "name": "ipython",
    "version": 3
   },
   "file_extension": ".py",
   "mimetype": "text/x-python",
   "name": "python",
   "nbconvert_exporter": "python",
   "pygments_lexer": "ipython3",
   "version": "3.10.7"
  }
 },
 "nbformat": 4,
 "nbformat_minor": 5
}
