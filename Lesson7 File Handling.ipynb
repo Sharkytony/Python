{
 "cells": [
  {
   "cell_type": "markdown",
   "id": "d85c3837",
   "metadata": {},
   "source": [
    "## File Handling\n",
    "     Can handle and manipulate files using file handling and do not have to manually create files and clt-c clt-v the data     obtained here."
   ]
  },
  {
   "cell_type": "code",
   "execution_count": 1,
   "id": "7a5d5092",
   "metadata": {},
   "outputs": [],
   "source": [
    "#the first param is the name of the file along with the type , sec param is the mode of opening the file\n",
    "\n",
    "# x-creating a file\n",
    "with open('newfile.txt', 'x')as f:\n",
    "    f.close()    "
   ]
  },
  {
   "cell_type": "code",
   "execution_count": 2,
   "id": "e2920380",
   "metadata": {},
   "outputs": [],
   "source": [
    "# w, w+ - if file doesnt exist, creating and writing in it\n",
    "with open('newfile.txt', 'w')as f:\n",
    "    f.write('''Line1\n",
    "Line2\n",
    "Line3''')"
   ]
  },
  {
   "cell_type": "code",
   "execution_count": 3,
   "id": "fce71b87",
   "metadata": {},
   "outputs": [],
   "source": [
    "# a - if file doesnt exist, creating and adding new content to the file\n",
    "with open('newfile.txt', 'a')as f:\n",
    "    f.write('''Line 4\n",
    "Line5\n",
    "Line6''')"
   ]
  },
  {
   "cell_type": "code",
   "execution_count": 4,
   "id": "8c7a2b03",
   "metadata": {},
   "outputs": [
    {
     "name": "stdout",
     "output_type": "stream",
     "text": [
      "Line1\n",
      "Line2\n",
      "Line3Line 4\n",
      "Line5\n",
      "Line6\n"
     ]
    }
   ],
   "source": [
    "# r, r+ - for reading the content in a file\n",
    "with open('newfile.txt', 'r+')as f:\n",
    "    content = f.read()\n",
    "    print(content)"
   ]
  }
 ],
 "metadata": {
  "kernelspec": {
   "display_name": "Python 3 (ipykernel)",
   "language": "python",
   "name": "python3"
  },
  "language_info": {
   "codemirror_mode": {
    "name": "ipython",
    "version": 3
   },
   "file_extension": ".py",
   "mimetype": "text/x-python",
   "name": "python",
   "nbconvert_exporter": "python",
   "pygments_lexer": "ipython3",
   "version": "3.10.7"
  }
 },
 "nbformat": 4,
 "nbformat_minor": 5
}
