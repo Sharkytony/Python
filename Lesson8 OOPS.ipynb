{
 "cells": [
  {
   "cell_type": "markdown",
   "id": "f4fa316f",
   "metadata": {},
   "source": [
    "<h1><center> OOPS(Object Oriented Programming System)🌟</center></h1> \n",
    "<h2><font face=gabriola color=magenta>    OOPs Concepts in Python</font><br> \n",
    "<font face=gabriola color=green>&emsp;Class<br>\n",
    "            &emsp;Objects<br>\n",
    "            &emsp;Inheritance<br>\n",
    "            &emsp;Polymorphism<br>\n",
    "            &emsp;Encapsulation<br>\n",
    "            &emsp;Data Abstraction<br>"
   ]
  },
  {
   "cell_type": "markdown",
   "id": "d457a9ca",
   "metadata": {},
   "source": [
    "<B><font face=verdona color=blue>\n",
    "⚡️class is a collection of objects. A class contains the blueprints or the prototype from which the objects are being created. It is a logical entity that contains some attributes and methods.<br>\n",
    "\n",
    "<font face=verdona color=red>\n",
    "🚀Classes are created by keyword class.<br>\n",
    "🚀Attributes are the variables that belong to a class.<br>\n",
    "🚀Attributes are always public and can be accessed using the dot (.) operator.<br>"
   ]
  },
  {
   "cell_type": "markdown",
   "id": "b662c970",
   "metadata": {},
   "source": [
    "<h3><center> DONT BE SCARED !! \n",
    "Read the code -> Understand the code ->Run the code line by line "
   ]
  },
  {
   "cell_type": "code",
   "execution_count": 1,
   "id": "e5ed0692",
   "metadata": {},
   "outputs": [
    {
     "name": "stdout",
     "output_type": "stream",
     "text": [
      "\u001b[32mGreetings from the Team !\u001b[39m\n",
      "Enter your name: Anthony\n",
      "Enter your age: 26\n",
      "Welcome Mr.Anthony \n",
      "Your age is 26 and you are eligible to play\n"
     ]
    }
   ],
   "source": [
    "from colorama import Fore\n",
    "#here the class is Human\n",
    "class Human: \n",
    "# init method initializes the the variables or operations that are to be performed as soon as called the class\n",
    "    def __init__(self): \n",
    "        self.age_limit = 18 #attribute- variables in a class (self.name, self.age)\n",
    "        print(f'{Fore.GREEN}Greetings from the Team !{Fore.RESET}') \n",
    "#it doesnt require to be called seperately, here majorly we use general statements\n",
    "# that are to be used irrespective of what the program is resulting\n",
    "\n",
    "    def say_name(self):\n",
    "#this function takes input but only when called\n",
    "        self.name = input(\"Enter your name: \")\n",
    "\n",
    "    def print_name(self):\n",
    "#this function print the input value with a message\n",
    "        print(\"Welcome Mr.{} \".format(self.name))\n",
    "\n",
    "    def say_age(self):\n",
    "# this function takes age as input and checks if the age is passing\n",
    "# the age limit or not and moves further only if the age criteria is passed\n",
    "        while True:\n",
    "            try:\n",
    "                age = int(input(\"Enter your age: \"))\n",
    "                if age < self.age_limit:\n",
    "                    print(\"Children under\", self.age_limit, \"are not permitted to play this game.\")\n",
    "                else:\n",
    "                    self.age = age\n",
    "                    break\n",
    "            except ValueError:\n",
    "                print(\"Enter a valid age as an integer.\")\n",
    "                \n",
    "    def print_age(self):\n",
    "        print(\"Your age is {} and you are eligible to play\".format(self.age))\n",
    "\n",
    "person_1 = Human() #Creating an Object This will create an object named 'person_1' of the class 'Human' defined above.\n",
    "\n",
    "person_1.say_name()# calling the attributes \n",
    "person_1.say_age()\n",
    "person_1.print_name()\n",
    "person_1.print_age()"
   ]
  },
  {
   "cell_type": "markdown",
   "id": "d8c65916",
   "metadata": {},
   "source": [
    "<h3>So we called the class first time and didnt go for any errors<br>\n",
    "Lets see how does it work when facing irrelevant answers 😂😂"
   ]
  },
  {
   "cell_type": "code",
   "execution_count": 2,
   "id": "f1d389f0",
   "metadata": {},
   "outputs": [
    {
     "name": "stdout",
     "output_type": "stream",
     "text": [
      "\u001b[32mGreetings from the Team !\u001b[39m\n",
      "Enter your name: Anthony\n",
      "Enter your age: str\n",
      "Enter a valid age as an integer.\n",
      "Enter your age: 12\n",
      "Children under 18 are not permitted to play this game.\n",
      "Enter your age: 26\n",
      "Welcome Mr.Anthony \n",
      "Your age is 26 and you are eligible to play\n"
     ]
    }
   ],
   "source": [
    "person_2 = Human()\n",
    "\n",
    "person_2.say_name()\n",
    "person_2.say_age()\n",
    "person_2.print_name()\n",
    "person_2.print_age()"
   ]
  },
  {
   "cell_type": "markdown",
   "id": "cdc1a2ae",
   "metadata": {},
   "source": [
    "<h2><font face=verdona color=red> It works great !! 🎉🎉🎉"
   ]
  },
  {
   "cell_type": "markdown",
   "id": "c6a5421d",
   "metadata": {},
   "source": [
    "<h1><font face =verdona color=blue>Did you observe we just built a SIGN IN program for an APP with just few (you be like : Not few Sir ! 😂) lines of code and all of these small concepts is what we have learnt in the earlier chapters<br>\n",
    "</font></h1> <h2>\n",
    "<font face =gabriola color=orange>\n",
    "It includes everything - <br>\n",
    "<font face =gabriola color=red>\n",
    "&emsp; strings<br>\n",
    "&emsp; integers<br>\n",
    "&emsp; Exception handling<br>\n",
    "&emsp; Class<br>\n",
    "&emsp; modules<br>\n",
    "&emsp; conditional statements<br>\n",
    "&emsp; loops(while, break)<br>"
   ]
  },
  {
   "cell_type": "markdown",
   "id": "1bb61c27",
   "metadata": {},
   "source": [
    "<h1><center>\n",
    "<I> <font color=grey>So we are done with Classes and Objects !!<br>\n",
    "<font face=arial color=magenta>Wohooo !!✈️✈️"
   ]
  },
  {
   "cell_type": "markdown",
   "id": "ed4f2273",
   "metadata": {},
   "source": [
    "## Inheritance\n",
    "    Inheritance is the capability of one class to derive or inherit the properties from another class. "
   ]
  },
  {
   "cell_type": "markdown",
   "id": "48dbe4f6",
   "metadata": {},
   "source": [
    "<h3>&emsp; Single Inheritance </h3>\n",
    "&emsp; &emsp; &emsp; Single-level inheritance enables a derived class to inherit characteristics from a single-parent class."
   ]
  },
  {
   "cell_type": "code",
   "execution_count": 3,
   "id": "85c44a05",
   "metadata": {},
   "outputs": [
    {
     "name": "stdout",
     "output_type": "stream",
     "text": [
      "Jose\n",
      "Data Scientist\n",
      "22\n",
      "lead data group scientist\n",
      "True\n"
     ]
    }
   ],
   "source": [
    "class Person :#Parent class\n",
    "    def __init__(self, name, age, post):#contains the contents of all child classes in general\n",
    "        self.name = name\n",
    "        self.age = age\n",
    "        self.post = post\n",
    "\n",
    "    def sayname(self):\n",
    "        print(self.name)\n",
    "\n",
    "    def sayage(self):\n",
    "        print(self.age)\n",
    "\n",
    "    def saypost(self):\n",
    "        print(self.post)\n",
    "\n",
    "class Engineer(Person) :#Child class which inherits from Single Parent Class \n",
    "    def __init__(self, name, age, post):\n",
    "        super().__init__(name , age, post)#super function includes the content of Base class\n",
    "\n",
    "        self.proffession = \"Engineer\"\n",
    "\n",
    "    def sayproffession(self):#contains the contents of child class in specific which is unique\n",
    "        print(self.proffession)\n",
    "\n",
    "\n",
    "class DataScientist(Person) :#Child class which inherits from Single Parent Class \n",
    "    def __init__(self, name, age, post):\n",
    "        super().__init__(name, age, post) #super function includes the content of Base class\n",
    "        \n",
    "        self.proffession = \"Data Scientist\"\n",
    "\n",
    "    def sayproffession(self):\n",
    "        print(self.proffession)\n",
    "\n",
    "ds= DataScientist(\"Jose\", \"22\", \"lead data group scientist\")\n",
    "ds.sayname()\n",
    "ds.sayproffession()\n",
    "ds.sayage()\n",
    "ds.saypost()\n",
    "\n",
    "print(issubclass(DataScientist, Person))"
   ]
  },
  {
   "cell_type": "markdown",
   "id": "fef6447e",
   "metadata": {},
   "source": [
    "<h3>&emsp;  Multilevel Inheritance:</h3>\n",
    "&emsp; &emsp; Multi-level inheritance enables a derived class to inherit properties from an immediate parent class which in turn inherits properties from his parent class. &emsp; "
   ]
  },
  {
   "cell_type": "code",
   "execution_count": 4,
   "id": "2cd4b7f4",
   "metadata": {},
   "outputs": [
    {
     "name": "stdout",
     "output_type": "stream",
     "text": [
      "A\n",
      "B\n",
      "c\n"
     ]
    }
   ],
   "source": [
    "class A:\n",
    "    def name(self):\n",
    "        print(\"A\")\n",
    "class B(A):#child class of A so B contains all attributes of A\n",
    "    def name2(self):\n",
    "        print(\"B\")\n",
    "class C(B):#child class of B so eventually child class of both A and B\n",
    "    def name3(self):\n",
    "        print(\"c\")\n",
    "\n",
    "obj = C()\n",
    "\n",
    "obj.name()\n",
    "obj.name2()\n",
    "obj.name3()"
   ]
  },
  {
   "cell_type": "markdown",
   "id": "9085ffc2",
   "metadata": {},
   "source": [
    "<h3>&emsp;  Multiple Inheritance:</h3>\n",
    "&emsp; &emsp;Multiple-level inheritance enables one derived class to inherit properties from more than one base class."
   ]
  },
  {
   "cell_type": "code",
   "execution_count": 5,
   "id": "e137d2e7",
   "metadata": {},
   "outputs": [
    {
     "name": "stdout",
     "output_type": "stream",
     "text": [
      "Parent class of A : A\n",
      "Parent class of B : B\n",
      "Parent Class of C : A, B\n"
     ]
    }
   ],
   "source": [
    "class A:# is a seperate class with no parent class\n",
    "    def name1(self):\n",
    "        print(\"Parent class of A : A\")\n",
    "\n",
    "class B:# is a seperate class with no parent class\n",
    "    def name2(self):\n",
    "        print(\"Parent class of B : B\")\n",
    "\n",
    "class C(A, B):# is a child class with multiple parent classes\n",
    "    def name3(self):\n",
    "        A.name1(self)\n",
    "        B.name2(self)\n",
    "        print(\"Parent Class of C : A, B\")\n",
    "\n",
    "a = C()\n",
    "\n",
    "a.name3()"
   ]
  },
  {
   "cell_type": "markdown",
   "id": "4250a79a",
   "metadata": {},
   "source": [
    "<h3>Classes work the same its just that you are adding a few more methods to the class without everytime actually coding it"
   ]
  },
  {
   "cell_type": "markdown",
   "id": "4d45dfdc",
   "metadata": {},
   "source": [
    "Before moving on to polymorphism we need to understand <br>\n",
    "Method Overriding - <br>\n",
    "&emsp;    in overriding we consider that particular class's method over the parent class method <br>"
   ]
  },
  {
   "cell_type": "code",
   "execution_count": 6,
   "id": "a92a00d1",
   "metadata": {},
   "outputs": [
    {
     "name": "stdout",
     "output_type": "stream",
     "text": [
      "6\n"
     ]
    }
   ],
   "source": [
    "# It shows how subclasses can override methods defined in their parent class\n",
    "# to provide specific behavior while still inheriting other methods from the parent class.\n",
    "\n",
    "class Base:\n",
    "    def subtract(self, a, b):\n",
    "        return a-b\n",
    "    def add(self, a, b):\n",
    "        return a + b\n",
    "class Child(Base):\n",
    "    def add(self, a, b):\n",
    "        return a * b\n",
    "\n",
    "obj = Child()\n",
    "\n",
    "print(obj.add(2, 3))"
   ]
  },
  {
   "cell_type": "markdown",
   "id": "c3186015",
   "metadata": {},
   "source": [
    "See it performed multiplication and not addition, as the methods had same name subclass preferred its method"
   ]
  },
  {
   "cell_type": "markdown",
   "id": "e5521a71",
   "metadata": {},
   "source": [
    "### Polymorphism \n",
    "    It simply means having many forms. "
   ]
  },
  {
   "cell_type": "code",
   "execution_count": 7,
   "id": "eb3f0acd",
   "metadata": {},
   "outputs": [
    {
     "name": "stdout",
     "output_type": "stream",
     "text": [
      "Working\n",
      "Working\n",
      "Performing task :  delivering goods\n",
      "Performing task :  Managing accounts\n"
     ]
    }
   ],
   "source": [
    "#Polymorphism without overriding but similar to it\n",
    "class Worker:\n",
    "    def status(self):\n",
    "        print(\"Working\")\n",
    "\n",
    "    def performing_task(self):\n",
    "        print(\"Performing task : \", end=\" \")\n",
    "        self.work()\n",
    "\n",
    "class Delivery_guy(Worker):\n",
    "    def work(self):\n",
    "        print(\"delivering goods\")\n",
    "\n",
    "class Bank_Manager(Worker):\n",
    "    def work(self):\n",
    "        print(\"Managing accounts\")\n",
    "\n",
    "deliveryguy = Delivery_guy()\n",
    "bankmanager = Bank_Manager()\n",
    "\n",
    "deliveryguy.status()\n",
    "bankmanager.status()\n",
    "deliveryguy.performing_task()\n",
    "bankmanager.performing_task()\n"
   ]
  },
  {
   "cell_type": "markdown",
   "id": "3370b19d",
   "metadata": {},
   "source": [
    "### Encapsulation\n",
    "     Encapsulation puts restrictions on accessing variables and methods directly and can prevent the accidental modification of data."
   ]
  },
  {
   "cell_type": "code",
   "execution_count": 8,
   "id": "05184b34",
   "metadata": {},
   "outputs": [
    {
     "name": "stdout",
     "output_type": "stream",
     "text": [
      "Public Function\n",
      "Private Function\n"
     ]
    }
   ],
   "source": [
    "class T:\n",
    "    def public(self):\n",
    "        print(\"Public Function\")\n",
    "\n",
    "    def __private(self):\n",
    "        print(\"Private Function\")\n",
    "\n",
    "obj = T()\n",
    "\n",
    "obj.public()\n",
    "obj._T__private() #private functions have a different way to be called as demonstated."
   ]
  },
  {
   "cell_type": "code",
   "execution_count": 9,
   "id": "4f5855c9",
   "metadata": {},
   "outputs": [
    {
     "name": "stdout",
     "output_type": "stream",
     "text": [
      "25000\n",
      "Toyota\n",
      "Corolla\n",
      "Ignition turned on\n",
      "Corolla\n"
     ]
    }
   ],
   "source": [
    "class Car:\n",
    "    def __init__(self, brand, model, price):\n",
    "        self._brand = brand  # Protected attribute\n",
    "        self.__model = model  # Private attribute\n",
    "        self.price = price  # Public attribute\n",
    "\n",
    "    def start_engine(self):\n",
    "        self.__turn_ignition()\n",
    "\n",
    "    def __turn_ignition(self):\n",
    "        print(\"Ignition turned on\")\n",
    "\n",
    "    def get_model(self):\n",
    "        return self.__model\n",
    "\n",
    "# Create an instance of the Car class\n",
    "my_car = Car(\"Toyota\", \"Corolla\", 25000)\n",
    "\n",
    "# Accessing public attributes\n",
    "print(my_car.price)  \n",
    "\n",
    "# Accessing protected attribute (convention, not enforced)\n",
    "print(my_car._brand) \n",
    "\n",
    "# Accessing private attribute (name-mangling)\n",
    "# Note: It's not recommended to access private attributes directly from outside the class\n",
    "print(my_car._Car__model)  \n",
    "\n",
    "# Accessing methods\n",
    "my_car.start_engine() \n",
    "print(my_car.get_model())  "
   ]
  },
  {
   "cell_type": "code",
   "execution_count": null,
   "id": "cfa66eb2",
   "metadata": {},
   "outputs": [],
   "source": []
  }
 ],
 "metadata": {
  "kernelspec": {
   "display_name": "Python 3 (ipykernel)",
   "language": "python",
   "name": "python3"
  },
  "language_info": {
   "codemirror_mode": {
    "name": "ipython",
    "version": 3
   },
   "file_extension": ".py",
   "mimetype": "text/x-python",
   "name": "python",
   "nbconvert_exporter": "python",
   "pygments_lexer": "ipython3",
   "version": "3.10.7"
  }
 },
 "nbformat": 4,
 "nbformat_minor": 5
}
