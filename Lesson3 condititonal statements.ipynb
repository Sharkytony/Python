{
 "cells": [
  {
   "cell_type": "markdown",
   "id": "2f38619b",
   "metadata": {},
   "source": [
    "<h1><font face=verdona color=orange><center>Conditional statements (Ta-daaaaa !)"
   ]
  },
  {
   "cell_type": "markdown",
   "id": "6c0d187b",
   "metadata": {},
   "source": [
    "### If \n",
    "    Here if the condition is true run the block of code below it and if the condition is false dont run the code block and move on the next line of code in the program"
   ]
  },
  {
   "cell_type": "code",
   "execution_count": 1,
   "id": "1e431205",
   "metadata": {},
   "outputs": [
    {
     "name": "stdout",
     "output_type": "stream",
     "text": [
      "Are you sure you want to exit :yes\n",
      "Exit\n",
      "DONE .\n"
     ]
    }
   ],
   "source": [
    "# input\n",
    "a = input(\"Are you sure you want to exit :\")\n",
    "\n",
    "# defining the variable is a good practice,as in high end projects you'll be writing many lines of code so its handy to use the\n",
    "# variable and not a string\n",
    "\n",
    "c = \"yes\"\n",
    "\n",
    "#if statement\n",
    "if a.lower() == c :# .lower is a string function used to lowercase all the characters in a str \n",
    "    print(\"Exit\")# condition is true\n",
    "\n",
    "print(\"DONE .\")"
   ]
  },
  {
   "cell_type": "markdown",
   "id": "0c480d88",
   "metadata": {},
   "source": [
    "### If-else\n",
    "    These are bi-conditional statements where you provide the if statement along with else i.e for false in if condition it will run the else block and then continue the program"
   ]
  },
  {
   "cell_type": "code",
   "execution_count": 2,
   "id": "52074cf1",
   "metadata": {},
   "outputs": [
    {
     "name": "stdout",
     "output_type": "stream",
     "text": [
      "Yes Condition is true\n",
      "10\n"
     ]
    }
   ],
   "source": [
    "# remember you can use your set of code for conditions and not just print statements\n",
    "\n",
    "x = 3\n",
    "if x+1 == 4:\n",
    "    print(\"Yes Condition is true\")\n",
    "    x = x+7\n",
    "    print(x)\n",
    "else:\n",
    "    print(\"No Condition is not true\")"
   ]
  },
  {
   "cell_type": "markdown",
   "id": "a3da4513",
   "metadata": {},
   "source": [
    "### if-elif-else\n",
    "    These are used for multi conditional statements(more than two conditions to check)"
   ]
  },
  {
   "cell_type": "code",
   "execution_count": 3,
   "id": "c469e041",
   "metadata": {},
   "outputs": [
    {
     "name": "stdout",
     "output_type": "stream",
     "text": [
      "3 stars\n"
     ]
    }
   ],
   "source": [
    "#suppose we are building a GAME so this program is responsible for giving Stars to the player based on the score\n",
    "x = 35 #score achieved\n",
    "\n",
    "a = 20 # minimum score to obtain 1 star\n",
    "b = 25 # minimum score to obtain 2 star\n",
    "c = 30 # minimum score to obtain 3 star\n",
    "if x <= a :\n",
    "    print(\"1 star\")\n",
    "elif x <= b:\n",
    "    print(\"2 stars\")\n",
    "else:\n",
    "    print(\"3 stars\")"
   ]
  },
  {
   "cell_type": "markdown",
   "id": "68566bea",
   "metadata": {},
   "source": [
    "### nested conditional statements\n",
    "    if the first condition is true check which nested condition is true in those conditions"
   ]
  },
  {
   "cell_type": "code",
   "execution_count": 4,
   "id": "64e4b5c7",
   "metadata": {},
   "outputs": [
    {
     "name": "stdout",
     "output_type": "stream",
     "text": [
      "X is less than 30\n",
      "but X is greater than 20 \n",
      "Thus X lies in the range 21 to 29\n"
     ]
    }
   ],
   "source": [
    "x = 25\n",
    "a = 20\n",
    "c = 30\n",
    "if x < c:\n",
    "    print(\"X is less than 30\")# if the main condition is true\n",
    "    if x < a:\n",
    "        print(\"X is even smaller than 20\") #if the nested condition in the main if branch is true\n",
    "    else:\n",
    "        print(\"but X is greater than 20 \\nThus X lies in the range 21 to 29\") #if false\n",
    "else:\n",
    "    print(\"X is greater than 30\")# if the main condition is false\n",
    "    \n",
    "# Here the main condition is true but the nested condition is false"
   ]
  },
  {
   "cell_type": "markdown",
   "id": "2cd07a04",
   "metadata": {},
   "source": [
    "<h1><font face=gabriola color= red><center>Going great with the work  👍"
   ]
  }
 ],
 "metadata": {
  "kernelspec": {
   "display_name": "Python 3 (ipykernel)",
   "language": "python",
   "name": "python3"
  },
  "language_info": {
   "codemirror_mode": {
    "name": "ipython",
    "version": 3
   },
   "file_extension": ".py",
   "mimetype": "text/x-python",
   "name": "python",
   "nbconvert_exporter": "python",
   "pygments_lexer": "ipython3",
   "version": "3.10.7"
  }
 },
 "nbformat": 4,
 "nbformat_minor": 5
}
