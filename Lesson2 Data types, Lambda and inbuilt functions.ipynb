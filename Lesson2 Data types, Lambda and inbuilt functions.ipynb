{
 "cells": [
  {
   "cell_type": "markdown",
   "id": "16cc79bd",
   "metadata": {},
   "source": [
    "### Strings\n",
    "    data type that represents a sequence of characters within quotes."
   ]
  },
  {
   "cell_type": "code",
   "execution_count": 1,
   "id": "73c5b76e",
   "metadata": {},
   "outputs": [
    {
     "name": "stdout",
     "output_type": "stream",
     "text": [
      "this Is a String\t  {} \n",
      "Type :  <class 'str'>\n"
     ]
    }
   ],
   "source": [
    "string = \"this Is a String\\t  {}\"\n",
    "\n",
    "#type() function is used to get the data type of any variable\n",
    "print(string, '\\nType : ',type(string))"
   ]
  },
  {
   "cell_type": "markdown",
   "id": "f72feb04",
   "metadata": {},
   "source": [
    "### Integers\n",
    "    This value is represented by int class. It contains positive or negative whole numbers (without fractions or decimals)."
   ]
  },
  {
   "cell_type": "code",
   "execution_count": 2,
   "id": "b65c04bd",
   "metadata": {},
   "outputs": [
    {
     "name": "stdout",
     "output_type": "stream",
     "text": [
      "Type :  <class 'int'>\n"
     ]
    }
   ],
   "source": [
    "integer = 5\n",
    "\n",
    "print(\"Type : \", type(integer))"
   ]
  },
  {
   "cell_type": "markdown",
   "id": "868537cb",
   "metadata": {},
   "source": [
    "### Float \n",
    "    This value is represented by the float class. It is a real number with a floating-point representation. It is specified by a decimal point."
   ]
  },
  {
   "cell_type": "code",
   "execution_count": 3,
   "id": "c1ee6ff5",
   "metadata": {},
   "outputs": [
    {
     "name": "stdout",
     "output_type": "stream",
     "text": [
      "Type :  <class 'float'>\n"
     ]
    }
   ],
   "source": [
    "fl = 5.0\n",
    "print('Type : ', type(fl))"
   ]
  },
  {
   "cell_type": "markdown",
   "id": "213c2cbe",
   "metadata": {},
   "source": [
    "There are various functions to the strings, integers and float variables"
   ]
  },
  {
   "cell_type": "markdown",
   "id": "8f45fec6",
   "metadata": {},
   "source": [
    "<h1> <font face =gabriola color=red> Wohoo You're all caught up with the data types !!\n",
    "<h3> <font face =gabriola color=orange> Hurray !! "
   ]
  },
  {
   "cell_type": "markdown",
   "id": "b3df40bc",
   "metadata": {},
   "source": [
    "### Lambda \n",
    "    short functions"
   ]
  },
  {
   "cell_type": "code",
   "execution_count": 4,
   "id": "4a6bc815",
   "metadata": {
    "scrolled": true
   },
   "outputs": [
    {
     "name": "stdout",
     "output_type": "stream",
     "text": [
      "Enter a number : 22\n",
      "Enter another number : 2\n",
      "\tAddition -  24\n",
      "\tMultiplication -  44\n",
      "\tDivision -  11.0\n",
      "\tSubstraction -  20\n",
      "\tsquare + cube-  492\n"
     ]
    }
   ],
   "source": [
    "#lambda Calculator\n",
    "\n",
    "#input function is used to get the input from the user for a variable of any datatype\n",
    "a = int(input(\"Enter a number : \"))\n",
    "b = int(input(\"Enter another number : \"))\n",
    "\n",
    "add = lambda x, y : x + y\n",
    "print('\\tAddition - ', add(a, b))\n",
    "\n",
    "mul = lambda x, y : x * y\n",
    "print('\\tMultiplication - ', mul(a, b))\n",
    "\n",
    "div = lambda x, y : x / y\n",
    "print('\\tDivision - ', div(a, b))\n",
    "\n",
    "sub = lambda x, y : x - y\n",
    "print('\\tSubstraction - ', sub(a, b))\n",
    "\n",
    "sq = lambda x, y : x**2 + y**3\n",
    "print('\\tsquare + cube- ', sq(a, b))"
   ]
  },
  {
   "cell_type": "markdown",
   "id": "e1dfb34c",
   "metadata": {},
   "source": [
    "<h1> <font face =gabriola color=red>Easy Peasy Lambda !!\n",
    "<h3> <font face =gabriola color=orange>Hurray"
   ]
  },
  {
   "cell_type": "markdown",
   "id": "94e0280d",
   "metadata": {},
   "source": [
    "### Inbuilt functions"
   ]
  },
  {
   "cell_type": "code",
   "execution_count": 5,
   "id": "8febf042",
   "metadata": {},
   "outputs": [
    {
     "data": {
      "text/plain": [
       "12"
      ]
     },
     "execution_count": 5,
     "metadata": {},
     "output_type": "execute_result"
    }
   ],
   "source": [
    "# Used to round values based on the number of decimal place provide (default=0)\n",
    "round(12.4)"
   ]
  },
  {
   "cell_type": "code",
   "execution_count": 6,
   "id": "006ea76f",
   "metadata": {},
   "outputs": [
    {
     "name": "stdout",
     "output_type": "stream",
     "text": [
      "Min :  1\n",
      "Max :  6\n"
     ]
    }
   ],
   "source": [
    "# obtaining the minimum and maximum values from a collection of numbers\n",
    "list1 = [1,2,3,4,5,6]\n",
    "print('Min : ',min(list1))\n",
    "print('Max : ',max(list1))"
   ]
  },
  {
   "cell_type": "code",
   "execution_count": 7,
   "id": "61a33363",
   "metadata": {},
   "outputs": [
    {
     "data": {
      "text/plain": [
       "[1, 4, 9, 16]"
      ]
     },
     "execution_count": 7,
     "metadata": {},
     "output_type": "execute_result"
    }
   ],
   "source": [
    "# Maps a function with an iterable object\n",
    "sq = lambda a: a**2\n",
    "l1 = [1,2,3,4]\n",
    "l2 = list(map(sq, l1)) # function, iterable obj\n",
    "l2"
   ]
  },
  {
   "cell_type": "code",
   "execution_count": 8,
   "id": "16cf1bdc",
   "metadata": {},
   "outputs": [
    {
     "data": {
      "text/plain": [
       "30"
      ]
     },
     "execution_count": 8,
     "metadata": {},
     "output_type": "execute_result"
    }
   ],
   "source": [
    "#sums up all the elements from a collection\n",
    "sum(l2)"
   ]
  },
  {
   "cell_type": "code",
   "execution_count": 9,
   "id": "c59421cf",
   "metadata": {},
   "outputs": [
    {
     "name": "stdout",
     "output_type": "stream",
     "text": [
      "12, 36, 24, 48, 72, 60\n"
     ]
    },
    {
     "data": {
      "text/plain": [
       "[12, 36, 24, 48, 72, 60]"
      ]
     },
     "execution_count": 9,
     "metadata": {},
     "output_type": "execute_result"
    }
   ],
   "source": [
    "# creating list by input function\n",
    "nums = list(map(int, input().split(\",\"))) #put these 12, 36, 24, 48, 72, 60\n",
    "nums"
   ]
  },
  {
   "cell_type": "markdown",
   "id": "fa3ad330",
   "metadata": {},
   "source": [
    "<h1> <font face =gabriola color=red> Done with inbuilt functions too ☺\n",
    "<h3> <font face =gabriola color=orange> Hurray !!"
   ]
  }
 ],
 "metadata": {
  "kernelspec": {
   "display_name": "Python 3 (ipykernel)",
   "language": "python",
   "name": "python3"
  },
  "language_info": {
   "codemirror_mode": {
    "name": "ipython",
    "version": 3
   },
   "file_extension": ".py",
   "mimetype": "text/x-python",
   "name": "python",
   "nbconvert_exporter": "python",
   "pygments_lexer": "ipython3",
   "version": "3.10.7"
  }
 },
 "nbformat": 4,
 "nbformat_minor": 5
}
