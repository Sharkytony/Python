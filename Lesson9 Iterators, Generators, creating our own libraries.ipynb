{
 "cells": [
  {
   "cell_type": "markdown",
   "id": "b4c44880",
   "metadata": {},
   "source": [
    "## Iterators\n",
    "    The iter() method is called for the initialization of an iterator. This returns an iterator object\n",
    "    The next() method returns the next value for the iterable."
   ]
  },
  {
   "cell_type": "code",
   "execution_count": 1,
   "id": "604a045b",
   "metadata": {},
   "outputs": [
    {
     "data": {
      "text/plain": [
       "1"
      ]
     },
     "execution_count": 1,
     "metadata": {},
     "output_type": "execute_result"
    }
   ],
   "source": [
    "l = [x for x in range(1,11)]\n",
    "s = set(l)\n",
    "t = tuple(l)\n",
    "d = {x: x**2 for x in l}\n",
    "\n",
    "itr = iter(d.values())\n",
    "next(itr)"
   ]
  },
  {
   "cell_type": "code",
   "execution_count": 2,
   "id": "c35be64b",
   "metadata": {},
   "outputs": [
    {
     "data": {
      "text/plain": [
       "100"
      ]
     },
     "execution_count": 2,
     "metadata": {},
     "output_type": "execute_result"
    }
   ],
   "source": [
    "rev= reversed(d.values())\n",
    "next(rev)"
   ]
  },
  {
   "cell_type": "code",
   "execution_count": 3,
   "id": "bcdf3a51",
   "metadata": {},
   "outputs": [],
   "source": [
    "#TV remote using iterators\n",
    "\n",
    "class TV_RC:\n",
    "    def __init__(self, button):\n",
    "        self.channels = ['StarGold', 'ZeeCinema', 'SonyMax']\n",
    "        self.itr = iter(self.channels)\n",
    "        self.button = button\n",
    "    \n",
    "    def change_channel(self):\n",
    "        try:\n",
    "            if self.button == 'next':\n",
    "                print(next(self.itr))       \n",
    "        except StopIteration:\n",
    "            print('NO more channels. ')\n",
    "rc = TV_RC('next')"
   ]
  },
  {
   "cell_type": "code",
   "execution_count": 4,
   "id": "72c93f1d",
   "metadata": {},
   "outputs": [
    {
     "name": "stdout",
     "output_type": "stream",
     "text": [
      "StarGold\n"
     ]
    }
   ],
   "source": [
    "rc.change_channel()"
   ]
  },
  {
   "cell_type": "markdown",
   "id": "d30692e8",
   "metadata": {},
   "source": [
    "## Generator-Function: \n",
    "    A generator-function is defined like a normal function, but whenever it needs to generate a value, it does so with the  yield keyword rather than return."
   ]
  },
  {
   "cell_type": "code",
   "execution_count": 5,
   "id": "dbd90c4d",
   "metadata": {},
   "outputs": [],
   "source": [
    "def rc():\n",
    "    yield \"Star Gold\"\n",
    "    yield \"ZeeCinema\"\n",
    "    yield \"SonyMax\"\n",
    "    \n",
    "itr = rc()"
   ]
  },
  {
   "cell_type": "code",
   "execution_count": 6,
   "id": "b5f84020",
   "metadata": {
    "scrolled": true
   },
   "outputs": [
    {
     "name": "stdout",
     "output_type": "stream",
     "text": [
      "Star Gold\n"
     ]
    }
   ],
   "source": [
    "try :\n",
    "    print(next(itr))\n",
    "except StopIteration :\n",
    "    print('No More Channels')"
   ]
  },
  {
   "cell_type": "markdown",
   "id": "e4a4c17a",
   "metadata": {},
   "source": [
    "### importing self made functions like we import downloaded libraries."
   ]
  },
  {
   "cell_type": "code",
   "execution_count": 7,
   "id": "b4f7fca1",
   "metadata": {},
   "outputs": [
    {
     "name": "stdout",
     "output_type": "stream",
     "text": [
      "11\n",
      "new\n",
      "10\n",
      "7\n"
     ]
    }
   ],
   "source": [
    "#import new #file needs to be a .py file if an ipynb file select File >Download as >Python(.py) >\n",
    "\n",
    "from new import add\n",
    "from new import multiply\n",
    "\n",
    "print(multiply(2,5))\n",
    "print(add(2, 5))"
   ]
  },
  {
   "cell_type": "code",
   "execution_count": 8,
   "id": "d3d813d2",
   "metadata": {},
   "outputs": [
    {
     "name": "stdout",
     "output_type": "stream",
     "text": [
      "Sorry username : '@asdfgf' is currently unaviable\n",
      "Please enter a new username : ;lkjhj\n",
      "Sorry username : '@;lkjhj' is currently unaviable\n",
      "Please enter a new username : qwertr\n",
      "Welcome @qwertr you have successfully created your profile\n",
      "['asdfgf', ';lkjhj', 'qwertr']\n"
     ]
    }
   ],
   "source": [
    "import new\n",
    "new.Sign_in(['asdfgf', ';lkjhj'], 'asdfgf')"
   ]
  },
  {
   "cell_type": "markdown",
   "id": "eb704847",
   "metadata": {},
   "source": [
    "<h1><font face=gabriola> Rock paper scissor game"
   ]
  },
  {
   "cell_type": "code",
   "execution_count": 9,
   "id": "b1d05a87",
   "metadata": {},
   "outputs": [
    {
     "name": "stdout",
     "output_type": "stream",
     "text": [
      "Chose either Rock, Paper or Scissor : Rock\n",
      "You chose Rock and Computer chose Scissor \n",
      "You Won\n",
      "Play again? (yes/no): yes\n",
      "Chose either Rock , Paper or Scissor :Scissor\n",
      "You chose Scissor and Computer chose Rock\n",
      "You lost\n",
      "Play again? (yes/no): no\n"
     ]
    }
   ],
   "source": [
    "import random\n",
    "\n",
    "def game(computer, mine):\n",
    "    if computer == mine:\n",
    "        return None\n",
    "    elif computer == \"Rock\" and mine == \"Paper\":\n",
    "        return True\n",
    "    elif computer == \"Paper\"  and mine == \"Scissor\":\n",
    "        return  True\n",
    "    elif computer == \"Scissor\" and mine == \"Rock\":\n",
    "        return True\n",
    "    else:\n",
    "        return False\n",
    "\n",
    "choice = (\"Rock\", \"Paper\", \"Scissor\")\n",
    "computer = random.randint(0, 2)\n",
    "computer = choice[computer]\n",
    "mine = input(\"Chose either Rock, Paper or Scissor : \" )\n",
    "\n",
    "win = game(computer, mine)\n",
    "print(\"You chose {} and Computer chose {} \" .format(mine, computer))\n",
    "if win is None:\n",
    "    print(\"Match Drawn\")\n",
    "elif win:\n",
    "    print(\"You Won\")\n",
    "else:\n",
    "    print(\"You lost\")\n",
    "while game:\n",
    "    play_again = input(\"Play again? (yes/no): \")\n",
    "    if play_again.lower() != \"yes\": break\n",
    "    choice = ('Rock', 'Paper', 'Scissor')\n",
    "    computer = random.randint(0, 2)\n",
    "    computer = choice[computer]\n",
    "    mine = input('Chose either Rock , Paper or Scissor :')\n",
    "    win = game(computer, mine)\n",
    "    print(\"You chose {} and Computer chose {}\".format(mine, computer))\n",
    "    if win is None:\n",
    "        print(\"Match Drawn\")\n",
    "    elif win:\n",
    "        print(\"You won\")\n",
    "    else:\n",
    "        print(\"You lost\")"
   ]
  }
 ],
 "metadata": {
  "kernelspec": {
   "display_name": "Python 3 (ipykernel)",
   "language": "python",
   "name": "python3"
  },
  "language_info": {
   "codemirror_mode": {
    "name": "ipython",
    "version": 3
   },
   "file_extension": ".py",
   "mimetype": "text/x-python",
   "name": "python",
   "nbconvert_exporter": "python",
   "pygments_lexer": "ipython3",
   "version": "3.10.7"
  }
 },
 "nbformat": 4,
 "nbformat_minor": 5
}
