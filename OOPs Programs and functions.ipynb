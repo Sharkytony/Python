{
 "cells": [
  {
   "cell_type": "markdown",
   "id": "79a47258",
   "metadata": {},
   "source": [
    "<h1><font face=gabriola color=red>Calculator⚓️</font></h1>"
   ]
  },
  {
   "cell_type": "code",
   "execution_count": 12,
   "id": "80b31bcf",
   "metadata": {},
   "outputs": [
    {
     "name": "stdout",
     "output_type": "stream",
     "text": [
      "Enter a number : 22\n",
      "Square of number is 22 is 484\n",
      "Cube of number 22 is 10648\n",
      "Square root of 22 is 4.69041575982343\n"
     ]
    }
   ],
   "source": [
    "class Calculator:\n",
    "    def __init__(self):\n",
    "        self.number_1 = int(input(\"Enter a number : \"))\n",
    "\n",
    "    def square(self):\n",
    "        a = (self.number_1 ** 2)\n",
    "        print(f\"Square of number is {self.number_1} is {a}\")\n",
    "    def cube(self):\n",
    "        b = (self.number_1 ** 3)\n",
    "        print(f\"Cube of number {self.number_1} is {b}\")\n",
    "    def square_root(self):\n",
    "        c = (self.number_1 ** 0.5)\n",
    "        print(f\"Square root of {self.number_1} is {c}\")\n",
    "\n",
    "obj = Calculator()\n",
    "\n",
    "obj.square()\n",
    "obj.cube()\n",
    "obj.square_root()"
   ]
  },
  {
   "cell_type": "markdown",
   "id": "d02355fd",
   "metadata": {},
   "source": [
    "Comments are provided to help you understand the code . <BR>\n",
    "<b>DONT FEAR THE CODE STRENGHTEN YOUR SKILLS"
   ]
  },
  {
   "cell_type": "markdown",
   "id": "2aba13ea",
   "metadata": {},
   "source": [
    "<h1><font face=gabriola color=red>used for sign in apps (eg. social media usernames)⚓️</font></h1>\n",
    "concepts used : \n",
    "    1)list\n",
    "    2)function\n",
    "    3)while loop\n",
    "    4)else statement"
   ]
  },
  {
   "cell_type": "code",
   "execution_count": 13,
   "id": "667050e1",
   "metadata": {
    "scrolled": true
   },
   "outputs": [
    {
     "name": "stdout",
     "output_type": "stream",
     "text": [
      "Enter your username : Anthony\n",
      "Sorry username : '@Anthony' is currently unaviable\n",
      "Please enter a new username : Jacob\n",
      "Welcome @Jacob you have successfully created your profile\n",
      "['Anthony', 'Amar007', 'Akbar123', 'Rajat', 'Rashid', 'Romeo455', 'Jacob']\n",
      "Sorry username : '@Anthony' is currently unaviable\n",
      "Please enter a new username : Jacob\n",
      "Sorry username : '@Jacob' is currently unaviable\n",
      "Please enter a new username : Kiki\n",
      "Welcome @Kiki you have successfully created your profile\n",
      "['Anthony', 'Amar007', 'Akbar123', 'Rajat', 'Rashid', 'Romeo455', 'Jacob', 'Kiki']\n"
     ]
    }
   ],
   "source": [
    "usernames = ['Anthony', 'Amar007', 'Akbar123', 'Rajat', 'Rashid', 'Romeo455']\n",
    "\n",
    "def Sign_in(username, new_username):#taking the username and new_username as input\n",
    "    username = username #defining the local variable(variable which has val only in a class or a func) \n",
    "#'username' with the list of usernames\n",
    "    while new_username in username: #checking from the usernames list if the username is already used \n",
    "        print(f\"Sorry username : \\'@{new_username}\\' is currently unaviable\")\n",
    "        new_username = input('Please enter a new username : ')\n",
    "    else :\n",
    "        print(f\"Welcome @{new_username} you have successfully created your profile\")\n",
    "        username.append(new_username)\n",
    "        print(username)\n",
    "\n",
    "new_username = input('Enter your username : ')\n",
    "Sign_in(usernames, new_username)#calling the function\n",
    "Sign_in(usernames, new_username)"
   ]
  },
  {
   "cell_type": "markdown",
   "id": "7a1c4b90",
   "metadata": {},
   "source": [
    "<h1><font face=gabriola color=red> goverment verification forms (code)⚓️</font></h1>\n",
    "concepts used : \n",
    "    1)class 2)function(aka method in class) 3)if-elif-else 4)objects"
   ]
  },
  {
   "cell_type": "code",
   "execution_count": 45,
   "id": "17d3aa5e",
   "metadata": {},
   "outputs": [
    {
     "name": "stdout",
     "output_type": "stream",
     "text": [
      "Please Enter your name : a\n",
      "Please Enter your age : a\n",
      "Please enter your phone/mobile number : a\n",
      "Please enter your email : a\n",
      "Please enter your current address : a\n",
      "\n",
      "Name : a\tAge : a\tPhone number : a\tEmail Id : a\tAddress : a\n",
      " \tIf the above details are correct press 'Continue' else press Re-enter : continue\n",
      "You have successfully registered , further details will be updated by message or email.\n"
     ]
    }
   ],
   "source": [
    "class Form :\n",
    "    def input_info(self): #collecting details as input\n",
    "        self.name = input(\"Please Enter your name : \")\n",
    "        self.age = input(\"Please Enter your age : \")\n",
    "        self.phone_num = input(\"Please enter your phone/mobile number : \")\n",
    "        self.email = input(\"Please enter your email : \")\n",
    "        self.address = input(\"Please enter your current address : \")\n",
    "\n",
    "    def print_info(self): # displaying the details\n",
    "        print(\"\\nName : {}\" .format(self.name), end=\"\\t\")\n",
    "        print(\"Age : {}\" .format(self.age), end=\"\\t\")\n",
    "        print(f\"Phone number : {self.phone_num}\", end=\"\\t\")\n",
    "        print(f\"Email Id : {self.email}\", end=\"\\t\")\n",
    "        print(\"Address : {}\\n \" .format(self.address), end=\"\\t\")\n",
    "        \n",
    "    def verification(self): #verifying the details\n",
    "        self.verify = input(\"If the above details are correct press \\'Continue\\' else press Re-enter : \")\n",
    "        if self.verify.lower() == \"continue\": #checking if the user wants to confirm and continue with the form\n",
    "            print(\"You have successfully registered , further details will be updated by message or email.\")\n",
    "        elif self.verify.lower() == \"re-enter\":  # if the user wants to re-enter the details\n",
    "            person1 = Form()  #creating an object\n",
    "            person1.input_info() #running all the methods of the class again since the user wants to re-enter the details\n",
    "            person1.print_info()\n",
    "            person1.verification()\n",
    "        else:\n",
    "            person1 = Form() #since the user has entered none of the two options\n",
    "            person1.verification() #we wil again run the verification method to ask the person about the same again\n",
    "\n",
    "person1 = Form()\n",
    "person1.input_info()\n",
    "person1.print_info()\n",
    "person1.verification()"
   ]
  },
  {
   "cell_type": "markdown",
   "id": "ec7dd8fc",
   "metadata": {},
   "source": [
    "<h1><font face=gabriola color=red>Student Library ⚓️</font></h1>\n",
    "concepts used : \n",
    "    1)class 2)functions(aka methods in class) 3)if-else 4)objects 5)while loop 6)exception handling 7)importing libraries"
   ]
  },
  {
   "cell_type": "code",
   "execution_count": 10,
   "id": "05626bd4",
   "metadata": {},
   "outputs": [
    {
     "name": "stdout",
     "output_type": "stream",
     "text": [
      "\u001b[35mWelcome to Central Library\n",
      "    \u001b[33mPlease choose an option \n",
      "    \u001b[32m\t 1. List of books \n",
      "    \t 2. Request for books\n",
      "    \t 3. Return book \n",
      "    \t 4. Exit\u001b[39m\n",
      "Enter your choice: l\n",
      "Please Enter a valid Option\n",
      "\u001b[35mWelcome to Central Library\n",
      "    \u001b[33mPlease choose an option \n",
      "    \u001b[32m\t 1. List of books \n",
      "    \t 2. Request for books\n",
      "    \t 3. Return book \n",
      "    \t 4. Exit\u001b[39m\n",
      "Enter your choice: 1\n",
      "Currently available books are : \n",
      " Gone\n",
      "Divergent\n",
      "Twilight\n",
      "Inception\n",
      "Outliers\n",
      "\u001b[35mWelcome to Central Library\n",
      "    \u001b[33mPlease choose an option \n",
      "    \u001b[32m\t 1. List of books \n",
      "    \t 2. Request for books\n",
      "    \t 3. Return book \n",
      "    \t 4. Exit\u001b[39m\n",
      "Enter your choice: 2\n",
      "Which book would u like to take: 3\n",
      "Sorry 3 is not available right now\n",
      "\u001b[35mWelcome to Central Library\n",
      "    \u001b[33mPlease choose an option \n",
      "    \u001b[32m\t 1. List of books \n",
      "    \t 2. Request for books\n",
      "    \t 3. Return book \n",
      "    \t 4. Exit\u001b[39m\n",
      "Enter your choice: 4\n",
      "Thanks for using this library\n"
     ]
    }
   ],
   "source": [
    "class Library:\n",
    "    def __init__(self, books):\n",
    "        self.books = books #taking book list as input\n",
    "\n",
    "    def available_books(self):\n",
    "        print('Currently available books are : \\n', '\\n'.join(self.books)) #displaying the book list\n",
    "\n",
    "    def book_taken(self, taken): #taking the book to borrow as input\n",
    "        if taken in self.books: #checking if the book is there in the book list\n",
    "            self.books.remove(taken) #removing the book as it is in the list\n",
    "            print(f'Thanks for taking the book({taken})',)\n",
    "            print('Currently available books are : ',(self.books))#displaying the book list again after removal\n",
    "        else:\n",
    "            print(f'Sorry {taken} is not available right now')\n",
    "        \n",
    "    def return_book(self, returning):#taking book to be returned as input\n",
    "        if returning not in self.books: #checking if the book is not there in the book list\n",
    "            self.books.append(returning) #adding the book as it is not in the list\n",
    "            print('Thanks for returning the book')\n",
    "            print('Currently available books are : ',format(self.books))\n",
    "        else:\n",
    "            print('We already have this book it is not from our library')\n",
    "\n",
    "class Student:\n",
    "    def reqbook(self):\n",
    "        self.req_book = input('Which book would u like to take: ') #taking borrowing book as input\n",
    "        return self.req_book\n",
    "\n",
    "    def retbook(self):\n",
    "        self.ret_book = input('Which book would u like to return: ')#taking the returning book as input\n",
    "        return self.ret_book\n",
    "    \n",
    "from colorama import Fore\n",
    "obj = Library([\"Gone\", \"Divergent\", \"Twilight\", \"Inception\", \"Outliers\"])\n",
    "std = Student()\n",
    "\n",
    "while True: #running an infinite loop(runns until it is not stopped using break statement)\n",
    "    welcome_msg=f'''{Fore.MAGENTA}Welcome to Central Library\n",
    "    {Fore.YELLOW}Please choose an option \n",
    "    {Fore.GREEN}\\t 1. List of books \n",
    "    \\t 2. Request for books\n",
    "    \\t 3. Return book \n",
    "    \\t 4. Exit{Fore.RESET}'''\n",
    "    print(welcome_msg)\n",
    "    try : \n",
    "        choice = int(input('Enter your choice: '))\n",
    "#checking if choice equals a value and performing operations accordingly\n",
    "        if choice == 1:\n",
    "            obj.available_books() #calling a method when satisfies certain condition\n",
    "        elif choice == 2:\n",
    "            obj.book_taken(std.reqbook()) #taking the self.req_book as input and running the given method\n",
    "        elif choice == 3:\n",
    "            obj.return_book(std.retbook())#taking the self.req_book as input and running the given method\n",
    "        elif choice == 4:\n",
    "            print('Thanks for using this library')\n",
    "            break #breaking the loop\n",
    "        else:\n",
    "            print('Invalid option') \n",
    "    except ValueError:\n",
    "        print('Please Enter a valid Option') #handling value error with a statement and continues the loop until it breaks\n",
    "    else:\n",
    "        pass"
   ]
  },
  {
   "cell_type": "markdown",
   "id": "119d08c5",
   "metadata": {},
   "source": [
    "<h1><font face=gabriola color=red>Creating Your own exception using class⚓️"
   ]
  },
  {
   "cell_type": "code",
   "execution_count": 48,
   "id": "f3f6c9b5",
   "metadata": {},
   "outputs": [
    {
     "name": "stdout",
     "output_type": "stream",
     "text": [
      "Select route (1/2/3) : 3\n",
      "You've reached your destination\n"
     ]
    }
   ],
   "source": [
    "class AccidentError(Exception):#defining our class as subclass to Exception which is the main class of all Errors\n",
    "    def __init__(self, msg):\n",
    "        self.msg = msg #taking the Error msg and defining it as attribute\n",
    "         \n",
    "    def handle(self):\n",
    "        print(self.msg,'\\nAccident ! Take Detour .')#displaying the msg (It cannot be in the constructor(__init__) \n",
    "        \n",
    "def start_journey():\n",
    "    route = int(input('Select route (1/2/3) : '))\n",
    "    if route == 1:\n",
    "        raise Accidentexception('Cradsh between two cars.')\n",
    "    else :\n",
    "        print(\"You've reached your destination\")\n",
    "    \n",
    "try:\n",
    "    start_journey()\n",
    "except Accidentexception as e:\n",
    "    e.handle()"
   ]
  },
  {
   "cell_type": "markdown",
   "id": "c0854c6d",
   "metadata": {},
   "source": [
    "<h1><font face=gabriola color=red>Lets create a game HEHEHEHE 😈😈😈"
   ]
  },
  {
   "cell_type": "code",
   "execution_count": 43,
   "id": "94a67d8d",
   "metadata": {
    "scrolled": true
   },
   "outputs": [
    {
     "name": "stdout",
     "output_type": "stream",
     "text": [
      "Guess a num from 1 to 10 : 6\n",
      "your guess is too high\n",
      "Guess a num from 1 to 10 : 2\n",
      "your guess is too low\n",
      "Guess a num from 1 to 10 : 4\n",
      "Your guess is correct the num is 4\n"
     ]
    }
   ],
   "source": [
    "#the Guessing game\n",
    "\n",
    "import random #importing random(module name) library (inbuilt in python)\n",
    "\n",
    "class perf_guess():\n",
    "    a = int(input('Guess a num from 1 to 10 : '))\n",
    "    choice = (1,2,3,4,5,6,7,8,9,10)\n",
    "    computer = random.randint(0,9)#importing function from randint-used to select any number at random from given range\n",
    "    comp = choice[computer] #here we get the index number of choice and using it we get the choice value \n",
    "    while a!= comp:\n",
    "        if a > comp:\n",
    "            print('your guess is too high')\n",
    "            a = int(input('Guess a num from 1 to 10 : '))\n",
    "        else:\n",
    "            print('your guess is too low')\n",
    "            a = int(input('Guess a num from 1 to 10 : '))\n",
    "\n",
    "    print(f'Your guess is correct the num is {comp}')"
   ]
  },
  {
   "cell_type": "markdown",
   "id": "d2e65785",
   "metadata": {},
   "source": [
    "<h2><font face=verdona color=green>When you know OOPS😎🤩 <font face=verdona color=black>vs<font face=verdona color=red> When you DONT 😫😔"
   ]
  },
  {
   "cell_type": "code",
   "execution_count": 72,
   "id": "af32c6af",
   "metadata": {},
   "outputs": [
    {
     "name": "stdout",
     "output_type": "stream",
     "text": [
      "Marks achieved in Maths : 23\n",
      "Marks achieved in Physics : 34\n",
      "Marks achieved in Chemistry : 23\n",
      "Marks achieved in Comp.Sci(CS) : 43\n",
      "Percentage obtained in Maths :  57.49999999999999\n",
      "\u001b[32mPass\u001b[39m\n",
      "Percentage obtained in Physics :  85.0\n",
      "\u001b[32mPass\u001b[39m\n",
      "Percentage obtained in Chemistry :  57.49999999999999\n",
      "\u001b[32mPass\u001b[39m\n",
      "Percentage obtained in CS : 107.5\n",
      "\u001b[32mPass\u001b[39m\n"
     ]
    }
   ],
   "source": [
    "# Heres a demostration of code of a Guy who is scared from OOPS but he knows we can code it with just the basics\n",
    "#(He thinks he's smart😂😂)\n",
    "from colorama import Fore\n",
    "a = int(input(\"Marks achieved in Maths : \"))\n",
    "b = int(input(\"Marks achieved in Physics : \"))\n",
    "c = int(input(\"Marks achieved in Chemistry : \"))\n",
    "d = int(input(\"Marks achieved in Comp.Sci(CS) : \"))\n",
    "\n",
    "x = lambda k : k / 40*100\n",
    "\n",
    "print(\"Percentage obtained in Maths : \", x(a))\n",
    "if a > 34/100*40 :\n",
    "    print(f\"{Fore.GREEN}Pass{Fore.RESET}\")\n",
    "else:\n",
    "    print(f\"{Fore.RED}Fail{Fore.RESET}\")\n",
    "\n",
    "print(\"Percentage obtained in Physics : \", x(b))\n",
    "if b > 34/100*40 :\n",
    "    print(f\"{Fore.GREEN}Pass{Fore.RESET}\")\n",
    "else:\n",
    "    print(f\"{Fore.RED}Fail{Fore.RESET}\")\n",
    "\n",
    "\n",
    "print(\"Percentage obtained in Chemistry : \", x(c))\n",
    "if c > 34/100*40 :\n",
    "    print(f\"{Fore.GREEN}Pass{Fore.RESET}\")\n",
    "else:\n",
    "    print(f\"{Fore.RED}Fail{Fore.RESET}\")\n",
    "\n",
    "print(\"Percentage obtained in CS :\", x(d))\n",
    "if d > 34/100*40 :\n",
    "    print(f\"{Fore.GREEN}Pass{Fore.RESET}\")\n",
    "else:\n",
    "    print(f\"{Fore.RED}Fail{Fore.RESET}\")\n"
   ]
  },
  {
   "cell_type": "markdown",
   "id": "d630ec45",
   "metadata": {},
   "source": [
    "<h1><font face=gabriola color=red>You'll say: ' huh not much difference Sir !'<br>\n",
    "<font face=gabriola color=orange>💡But what if there are 10 subjects or even more <br>\n",
    "💡My code will still be able to handle it with the same lines of code without any change HAHA 👨‍🔬(scientist me) <br>\n",
    "💡Meanwhile it also helps to build logic whereas in the above code youre just copy pasting the same 4/5 lines of code<br>"
   ]
  },
  {
   "cell_type": "code",
   "execution_count": 78,
   "id": "0a34117f",
   "metadata": {},
   "outputs": [
    {
     "name": "stdout",
     "output_type": "stream",
     "text": [
      "Enter the marks in Maths out of 40 : 35\n",
      "Enter the marks in Physics out of 40 : 10\n",
      "Enter the marks in Chemistry out of 40 : 12\n",
      "Enter the marks in CS out of 40 : 40\n",
      "\n",
      "\n",
      "Percentage obtained in Maths : 87.5\n",
      "\u001b[32mPass\u001b[39m\n",
      "Percentage obtained in Physics : 25.0\n",
      "\u001b[31mFail\u001b[39m\n",
      "Percentage obtained in Chemistry : 30.0\n",
      "\u001b[31mFail\u001b[39m\n",
      "Percentage obtained in CS : 100.0\n",
      "\u001b[32mPass\u001b[39m\n"
     ]
    }
   ],
   "source": [
    "# Here's a demostration of code of a Guy who stood brave and gained knowledge of OOPS\n",
    "from colorama import Fore\n",
    "\n",
    "class Student_Report: \n",
    "    def __init__(self, subjects):\n",
    "        self.subjects = subjects\n",
    "        \n",
    "    def marks_input(self):\n",
    "        self.sub_marks = dict()\n",
    "        for i in range(len(self.subjects)):\n",
    "            input_marks = int(input(f'Enter the marks in {self.subjects[i]} out of 40 : '))\n",
    "            self.sub_marks.update({self.subjects[i]: input_marks})\n",
    "        print('\\n')\n",
    "        \n",
    "    def perc_calc(self):\n",
    "        x = lambda k : k / 40*100 #(lambda function )percentage formula\n",
    "        marks = list(self.sub_marks.values())\n",
    "        for i in range(len(self.subjects)):\n",
    "            perc = x(marks[i])\n",
    "            print(f\"Percentage obtained in {self.subjects[i]} : {perc}\")\n",
    "            if perc > 35.0:\n",
    "                print(f'{Fore.GREEN}Pass{Fore.RESET}')\n",
    "            else:\n",
    "                print(f'{Fore.RED}Fail{Fore.RESET}')\n",
    "\n",
    "subjects = ['Maths', 'Physics', 'Chemistry', 'CS']\n",
    "std = Student_Report(subjects)\n",
    "std.marks_input()\n",
    "std.perc_calc()"
   ]
  }
 ],
 "metadata": {
  "kernelspec": {
   "display_name": "Python 3 (ipykernel)",
   "language": "python",
   "name": "python3"
  },
  "language_info": {
   "codemirror_mode": {
    "name": "ipython",
    "version": 3
   },
   "file_extension": ".py",
   "mimetype": "text/x-python",
   "name": "python",
   "nbconvert_exporter": "python",
   "pygments_lexer": "ipython3",
   "version": "3.10.7"
  }
 },
 "nbformat": 4,
 "nbformat_minor": 5
}
